{
 "cells": [
  {
   "cell_type": "markdown",
   "metadata": {},
   "source": [
    "## Predição de Status de entrega OLIST\n",
    "\n"
   ]
  },
  {
   "cell_type": "markdown",
   "metadata": {},
   "source": [
    "# Preparação \n",
    "\n",
    "Preparando os pacotes que irão ser utilizados e carregando os dados do banco de dados."
   ]
  },
  {
   "cell_type": "code",
   "execution_count": 7,
   "metadata": {},
   "outputs": [],
   "source": [
    "#Importação dos Pacotes\n",
    "import warnings\n",
    "import pandas as pd\n",
    "import matplotlib.pyplot as plt\n",
    "import seaborn as sns\n",
    "from sklearn.ensemble import RandomForestClassifier\n",
    "from sklearn.model_selection import train_test_split\n",
    "import numpy as np\n",
    "import joblib # Utilizado para salvar o modelo preditivo\n",
    "from sklearn.preprocessing import LabelEncoder #Utilizada para fazer o OneHotEncoding\n",
    "from sklearn.metrics import mean_squared_error,precision_score, recall_score, f1_score, accuracy_score, roc_auc_score, confusion_matrix, classification_report\n",
    "from imblearn import under_sampling, over_sampling #Utilizada para fazer o balanceamento de dados\n",
    "from imblearn.over_sampling import SMOTE #Utilizada para fazer o balanceamento de dados\n",
    "from sklearn.preprocessing import MinMaxScaler #Utilizada para fazer a padronização dos dados\n",
    "from sklearn.metrics import r2_score # Utilizado para medir a acuracia do modelo preditivo\n",
    "#import pymssql as sql #conexão SQL\n",
    "import psycopg2 as sql\n",
    "\n",
    "\n",
    "#Novos pacotes para testar tipos de modelos\n",
    "from sklearn.linear_model import LogisticRegression\n",
    "from sklearn.tree import DecisionTreeClassifier\n",
    "from sklearn.ensemble import RandomForestClassifier\n",
    "from sklearn.preprocessing import LabelEncoder\n",
    "from xgboost import XGBClassifier\n",
    "from lightgbm import LGBMClassifier\n",
    "from sklearn.ensemble import GradientBoostingClassifier\n",
    "from sklearn.svm import SVC\n",
    "from sklearn.neighbors import KNeighborsClassifier\n",
    "from sklearn.neural_network import MLPClassifier\n",
    "\n",
    "warnings.filterwarnings(\"ignore\") \n",
    "pd.set_option('display.max_columns', None)\n",
    "pd.set_option('display.max_rows', None)\n",
    "#pd.options.display.float_format = '{:.2f}'.format"
   ]
  },
  {
   "cell_type": "code",
   "execution_count": 76,
   "metadata": {},
   "outputs": [],
   "source": [
    "#Importação dos arquivos direto do banco de dados MSSQL\n",
    "\n",
    "# Cria a conexão com o SQL Server passando os parametros (Servidor, Usuário, Senha, Database)\n",
    "conexao = sql.connect(database = \"olist\", host = \"localhost\", user = \"etlolist\", password = \"abc123\", port = \"5433\")\n",
    "\n",
    "# Chama a consulta ao banco de dados passando os parametros da conexão criada\n",
    "df_original = pd.read_sql_query('select * from dw_entrega', conexao)\n",
    "\n",
    "# Fecha conexão com banco de dados\n",
    "conexao.close()"
   ]
  },
  {
   "cell_type": "markdown",
   "metadata": {},
   "source": [
    "## Análise"
   ]
  },
  {
   "cell_type": "code",
   "execution_count": 77,
   "metadata": {},
   "outputs": [
    {
     "data": {
      "text/plain": [
       "(115412, 23)"
      ]
     },
     "execution_count": 77,
     "metadata": {},
     "output_type": "execute_result"
    }
   ],
   "source": [
    "#Tamanho do conjunto de dados. \n",
    "df_original.shape"
   ]
  },
  {
   "cell_type": "code",
   "execution_count": 78,
   "metadata": {},
   "outputs": [
    {
     "data": {
      "text/html": [
       "<div>\n",
       "<style scoped>\n",
       "    .dataframe tbody tr th:only-of-type {\n",
       "        vertical-align: middle;\n",
       "    }\n",
       "\n",
       "    .dataframe tbody tr th {\n",
       "        vertical-align: top;\n",
       "    }\n",
       "\n",
       "    .dataframe thead th {\n",
       "        text-align: right;\n",
       "    }\n",
       "</style>\n",
       "<table border=\"1\" class=\"dataframe\">\n",
       "  <thead>\n",
       "    <tr style=\"text-align: right;\">\n",
       "      <th></th>\n",
       "      <th>order_id</th>\n",
       "      <th>order_status</th>\n",
       "      <th>order_purchase_timestamp</th>\n",
       "      <th>order_approved_at</th>\n",
       "      <th>order_delivered_carrier_date</th>\n",
       "      <th>order_delivered_customer_date</th>\n",
       "      <th>order_estimated_delivery_date</th>\n",
       "      <th>customer_zip_code_prefix</th>\n",
       "      <th>customer_state</th>\n",
       "      <th>customer_city</th>\n",
       "      <th>shipping_limit_date</th>\n",
       "      <th>price</th>\n",
       "      <th>freight_value</th>\n",
       "      <th>payment_sequential</th>\n",
       "      <th>payment_type</th>\n",
       "      <th>payment_installments</th>\n",
       "      <th>payment_value</th>\n",
       "      <th>product_category_name</th>\n",
       "      <th>seller_zip_code_prefix</th>\n",
       "      <th>seller_city</th>\n",
       "      <th>seller_state</th>\n",
       "      <th>tempo_entrega</th>\n",
       "      <th>diferenca_entrega</th>\n",
       "    </tr>\n",
       "  </thead>\n",
       "  <tbody>\n",
       "    <tr>\n",
       "      <th>0</th>\n",
       "      <td>ADA48B7CE9FEE2A62CD265BD45A9C97B</td>\n",
       "      <td>DELIVERED</td>\n",
       "      <td>2017-05-28 23:22:32</td>\n",
       "      <td>2017-05-28 23:35:16</td>\n",
       "      <td>2017-05-29 10:34:43</td>\n",
       "      <td>2017-06-28 16:09:45</td>\n",
       "      <td>2017-06-23</td>\n",
       "      <td>73840</td>\n",
       "      <td>GO</td>\n",
       "      <td>CAMPOS BELOS</td>\n",
       "      <td>2017-06-01 23:35:16</td>\n",
       "      <td>140.0</td>\n",
       "      <td>30.0</td>\n",
       "      <td>1</td>\n",
       "      <td>CREDIT_CARD</td>\n",
       "      <td>4</td>\n",
       "      <td>170</td>\n",
       "      <td>MOVEIS_SALA</td>\n",
       "      <td>37580</td>\n",
       "      <td>MONTE SIAO</td>\n",
       "      <td>MG</td>\n",
       "      <td>30.0</td>\n",
       "      <td>5.0</td>\n",
       "    </tr>\n",
       "    <tr>\n",
       "      <th>1</th>\n",
       "      <td>B012C1697921F54E80780E034A93C871</td>\n",
       "      <td>DELIVERED</td>\n",
       "      <td>2018-01-21 11:13:57</td>\n",
       "      <td>2018-01-22 13:47:19</td>\n",
       "      <td>2018-01-23 21:13:24</td>\n",
       "      <td>2018-02-03 13:12:35</td>\n",
       "      <td>2018-02-14</td>\n",
       "      <td>4061</td>\n",
       "      <td>SP</td>\n",
       "      <td>SAO PAULO</td>\n",
       "      <td>2018-01-26 13:47:19</td>\n",
       "      <td>140.0</td>\n",
       "      <td>24.0</td>\n",
       "      <td>1</td>\n",
       "      <td>CREDIT_CARD</td>\n",
       "      <td>10</td>\n",
       "      <td>164</td>\n",
       "      <td>MOVEIS_SALA</td>\n",
       "      <td>37580</td>\n",
       "      <td>MONTE SIAO</td>\n",
       "      <td>MG</td>\n",
       "      <td>11.0</td>\n",
       "      <td>-10.0</td>\n",
       "    </tr>\n",
       "    <tr>\n",
       "      <th>2</th>\n",
       "      <td>B45218774C4D91E22FFD4165C0CBCC38</td>\n",
       "      <td>DELIVERED</td>\n",
       "      <td>2018-02-17 18:05:16</td>\n",
       "      <td>2018-02-17 18:15:30</td>\n",
       "      <td>2018-02-19 10:04:40</td>\n",
       "      <td>2018-03-09 21:09:45</td>\n",
       "      <td>2018-03-14</td>\n",
       "      <td>79803</td>\n",
       "      <td>MS</td>\n",
       "      <td>DOURADOS</td>\n",
       "      <td>2018-02-22 17:15:30</td>\n",
       "      <td>140.0</td>\n",
       "      <td>45.0</td>\n",
       "      <td>1</td>\n",
       "      <td>CREDIT_CARD</td>\n",
       "      <td>1</td>\n",
       "      <td>185</td>\n",
       "      <td>MOVEIS_SALA</td>\n",
       "      <td>37580</td>\n",
       "      <td>MONTE SIAO</td>\n",
       "      <td>MG</td>\n",
       "      <td>20.0</td>\n",
       "      <td>-4.0</td>\n",
       "    </tr>\n",
       "    <tr>\n",
       "      <th>3</th>\n",
       "      <td>DBBA7FF437DCECD5E70B6EA4BB3AB37B</td>\n",
       "      <td>DELIVERED</td>\n",
       "      <td>2018-01-29 22:44:15</td>\n",
       "      <td>2018-01-30 22:35:48</td>\n",
       "      <td>2018-01-31 22:48:48</td>\n",
       "      <td>2018-02-07 19:16:40</td>\n",
       "      <td>2018-02-21</td>\n",
       "      <td>7160</td>\n",
       "      <td>SP</td>\n",
       "      <td>GUARULHOS</td>\n",
       "      <td>2018-02-05 22:35:48</td>\n",
       "      <td>140.0</td>\n",
       "      <td>24.0</td>\n",
       "      <td>1</td>\n",
       "      <td>CREDIT_CARD</td>\n",
       "      <td>6</td>\n",
       "      <td>164</td>\n",
       "      <td>MOVEIS_SALA</td>\n",
       "      <td>37580</td>\n",
       "      <td>MONTE SIAO</td>\n",
       "      <td>MG</td>\n",
       "      <td>7.0</td>\n",
       "      <td>-13.0</td>\n",
       "    </tr>\n",
       "    <tr>\n",
       "      <th>4</th>\n",
       "      <td>F7364D7A775833B673741FAD4D394512</td>\n",
       "      <td>DELIVERED</td>\n",
       "      <td>2017-10-22 19:29:49</td>\n",
       "      <td>2017-10-22 19:49:19</td>\n",
       "      <td>2017-10-23 21:13:16</td>\n",
       "      <td>2017-10-31 19:43:56</td>\n",
       "      <td>2017-11-14</td>\n",
       "      <td>18120</td>\n",
       "      <td>SP</td>\n",
       "      <td>MAIRINQUE</td>\n",
       "      <td>2017-10-26 19:49:19</td>\n",
       "      <td>140.0</td>\n",
       "      <td>32.0</td>\n",
       "      <td>1</td>\n",
       "      <td>CREDIT_CARD</td>\n",
       "      <td>3</td>\n",
       "      <td>172</td>\n",
       "      <td>MOVEIS_SALA</td>\n",
       "      <td>37580</td>\n",
       "      <td>MONTE SIAO</td>\n",
       "      <td>MG</td>\n",
       "      <td>8.0</td>\n",
       "      <td>-13.0</td>\n",
       "    </tr>\n",
       "  </tbody>\n",
       "</table>\n",
       "</div>"
      ],
      "text/plain": [
       "                           order_id order_status order_purchase_timestamp  \\\n",
       "0  ADA48B7CE9FEE2A62CD265BD45A9C97B    DELIVERED      2017-05-28 23:22:32   \n",
       "1  B012C1697921F54E80780E034A93C871    DELIVERED      2018-01-21 11:13:57   \n",
       "2  B45218774C4D91E22FFD4165C0CBCC38    DELIVERED      2018-02-17 18:05:16   \n",
       "3  DBBA7FF437DCECD5E70B6EA4BB3AB37B    DELIVERED      2018-01-29 22:44:15   \n",
       "4  F7364D7A775833B673741FAD4D394512    DELIVERED      2017-10-22 19:29:49   \n",
       "\n",
       "    order_approved_at order_delivered_carrier_date  \\\n",
       "0 2017-05-28 23:35:16          2017-05-29 10:34:43   \n",
       "1 2018-01-22 13:47:19          2018-01-23 21:13:24   \n",
       "2 2018-02-17 18:15:30          2018-02-19 10:04:40   \n",
       "3 2018-01-30 22:35:48          2018-01-31 22:48:48   \n",
       "4 2017-10-22 19:49:19          2017-10-23 21:13:16   \n",
       "\n",
       "  order_delivered_customer_date order_estimated_delivery_date  \\\n",
       "0           2017-06-28 16:09:45                    2017-06-23   \n",
       "1           2018-02-03 13:12:35                    2018-02-14   \n",
       "2           2018-03-09 21:09:45                    2018-03-14   \n",
       "3           2018-02-07 19:16:40                    2018-02-21   \n",
       "4           2017-10-31 19:43:56                    2017-11-14   \n",
       "\n",
       "   customer_zip_code_prefix customer_state customer_city shipping_limit_date  \\\n",
       "0                     73840             GO  CAMPOS BELOS 2017-06-01 23:35:16   \n",
       "1                      4061             SP     SAO PAULO 2018-01-26 13:47:19   \n",
       "2                     79803             MS      DOURADOS 2018-02-22 17:15:30   \n",
       "3                      7160             SP     GUARULHOS 2018-02-05 22:35:48   \n",
       "4                     18120             SP     MAIRINQUE 2017-10-26 19:49:19   \n",
       "\n",
       "   price  freight_value  payment_sequential payment_type  \\\n",
       "0  140.0           30.0                   1  CREDIT_CARD   \n",
       "1  140.0           24.0                   1  CREDIT_CARD   \n",
       "2  140.0           45.0                   1  CREDIT_CARD   \n",
       "3  140.0           24.0                   1  CREDIT_CARD   \n",
       "4  140.0           32.0                   1  CREDIT_CARD   \n",
       "\n",
       "   payment_installments  payment_value product_category_name  \\\n",
       "0                     4            170           MOVEIS_SALA   \n",
       "1                    10            164           MOVEIS_SALA   \n",
       "2                     1            185           MOVEIS_SALA   \n",
       "3                     6            164           MOVEIS_SALA   \n",
       "4                     3            172           MOVEIS_SALA   \n",
       "\n",
       "   seller_zip_code_prefix seller_city seller_state  tempo_entrega  \\\n",
       "0                   37580  MONTE SIAO           MG           30.0   \n",
       "1                   37580  MONTE SIAO           MG           11.0   \n",
       "2                   37580  MONTE SIAO           MG           20.0   \n",
       "3                   37580  MONTE SIAO           MG            7.0   \n",
       "4                   37580  MONTE SIAO           MG            8.0   \n",
       "\n",
       "   diferenca_entrega  \n",
       "0                5.0  \n",
       "1              -10.0  \n",
       "2               -4.0  \n",
       "3              -13.0  \n",
       "4              -13.0  "
      ]
     },
     "execution_count": 78,
     "metadata": {},
     "output_type": "execute_result"
    }
   ],
   "source": [
    "#Visão geral do conjunto de dados\n",
    "df_original.head(5)"
   ]
  },
  {
   "cell_type": "code",
   "execution_count": 79,
   "metadata": {},
   "outputs": [
    {
     "data": {
      "text/plain": [
       "order_id                         0\n",
       "order_status                     0\n",
       "order_purchase_timestamp         0\n",
       "order_approved_at                0\n",
       "order_delivered_carrier_date     0\n",
       "order_delivered_customer_date    0\n",
       "order_estimated_delivery_date    0\n",
       "customer_zip_code_prefix         0\n",
       "customer_state                   0\n",
       "customer_city                    0\n",
       "shipping_limit_date              0\n",
       "price                            0\n",
       "freight_value                    0\n",
       "payment_sequential               0\n",
       "payment_type                     0\n",
       "payment_installments             0\n",
       "payment_value                    0\n",
       "product_category_name            0\n",
       "seller_zip_code_prefix           0\n",
       "seller_city                      0\n",
       "seller_state                     0\n",
       "tempo_entrega                    0\n",
       "diferenca_entrega                0\n",
       "dtype: int64"
      ]
     },
     "execution_count": 79,
     "metadata": {},
     "output_type": "execute_result"
    }
   ],
   "source": [
    "# Analisando os dados missing podemos constatar o seguinte:\n",
    "# Sem dados nulos\n",
    "\n",
    "df_original.isnull().sum()"
   ]
  },
  {
   "cell_type": "code",
   "execution_count": 80,
   "metadata": {},
   "outputs": [
    {
     "name": "stdout",
     "output_type": "stream",
     "text": [
      "<class 'pandas.core.frame.DataFrame'>\n",
      "RangeIndex: 115412 entries, 0 to 115411\n",
      "Data columns (total 23 columns):\n",
      " #   Column                         Non-Null Count   Dtype         \n",
      "---  ------                         --------------   -----         \n",
      " 0   order_id                       115412 non-null  object        \n",
      " 1   order_status                   115412 non-null  object        \n",
      " 2   order_purchase_timestamp       115412 non-null  datetime64[ns]\n",
      " 3   order_approved_at              115412 non-null  datetime64[ns]\n",
      " 4   order_delivered_carrier_date   115412 non-null  datetime64[ns]\n",
      " 5   order_delivered_customer_date  115412 non-null  datetime64[ns]\n",
      " 6   order_estimated_delivery_date  115412 non-null  datetime64[ns]\n",
      " 7   customer_zip_code_prefix       115412 non-null  int64         \n",
      " 8   customer_state                 115412 non-null  object        \n",
      " 9   customer_city                  115412 non-null  object        \n",
      " 10  shipping_limit_date            115412 non-null  datetime64[ns]\n",
      " 11  price                          115412 non-null  float64       \n",
      " 12  freight_value                  115412 non-null  float64       \n",
      " 13  payment_sequential             115412 non-null  int64         \n",
      " 14  payment_type                   115412 non-null  object        \n",
      " 15  payment_installments           115412 non-null  int64         \n",
      " 16  payment_value                  115412 non-null  int64         \n",
      " 17  product_category_name          115412 non-null  object        \n",
      " 18  seller_zip_code_prefix         115412 non-null  int64         \n",
      " 19  seller_city                    115412 non-null  object        \n",
      " 20  seller_state                   115412 non-null  object        \n",
      " 21  tempo_entrega                  115412 non-null  float64       \n",
      " 22  diferenca_entrega              115412 non-null  float64       \n",
      "dtypes: datetime64[ns](6), float64(4), int64(5), object(8)\n",
      "memory usage: 20.3+ MB\n"
     ]
    }
   ],
   "source": [
    "#Informações básicas sobre tipos de variáveis\n",
    "df_original.info(verbose=True)"
   ]
  },
  {
   "cell_type": "code",
   "execution_count": 81,
   "metadata": {},
   "outputs": [
    {
     "name": "stdout",
     "output_type": "stream",
     "text": [
      "Período dos dados - De: 2016-09-05 Até: 2018-08-29\n"
     ]
    }
   ],
   "source": [
    "# Avaliar o período dos dados coletados\n",
    "inicio = pd.to_datetime(df_original['order_purchase_timestamp']).dt.date.min()\n",
    "fim = pd.to_datetime(df_original['order_purchase_timestamp']).dt.date.max()\n",
    "print('Período dos dados - De:', inicio, 'Até:',fim)"
   ]
  },
  {
   "cell_type": "code",
   "execution_count": 82,
   "metadata": {},
   "outputs": [
    {
     "name": "stdout",
     "output_type": "stream",
     "text": [
      "order_id : 96275\n",
      "order_status : 2\n",
      "order_purchase_timestamp : 95758\n",
      "order_approved_at : 88122\n",
      "order_delivered_carrier_date : 79662\n",
      "order_delivered_customer_date : 95022\n",
      "order_estimated_delivery_date : 447\n",
      "customer_zip_code_prefix : 14882\n",
      "customer_state : 27\n",
      "customer_city : 4084\n",
      "shipping_limit_date : 91169\n",
      "price : 1051\n",
      "freight_value : 235\n",
      "payment_sequential : 26\n",
      "payment_type : 4\n",
      "payment_installments : 24\n",
      "payment_value : 1622\n",
      "product_category_name : 74\n",
      "seller_zip_code_prefix : 2194\n",
      "seller_city : 601\n"
     ]
    }
   ],
   "source": [
    "# Total de valores únicos de cada variável\n",
    "# A variável TIPO_FINANCIAMENTO possui valor unico, então será retirada do nosso DataFrame\n",
    "\n",
    "valores_unicos = []\n",
    "for i in df_original.columns[0:20].tolist():\n",
    "    print(i, ':', len(df_original[i].astype(str).value_counts()))\n",
    "    valores_unicos.append(len(df_original[i].astype(str).value_counts()))"
   ]
  },
  {
   "cell_type": "code",
   "execution_count": 83,
   "metadata": {},
   "outputs": [
    {
     "data": {
      "text/html": [
       "<div>\n",
       "<style scoped>\n",
       "    .dataframe tbody tr th:only-of-type {\n",
       "        vertical-align: middle;\n",
       "    }\n",
       "\n",
       "    .dataframe tbody tr th {\n",
       "        vertical-align: top;\n",
       "    }\n",
       "\n",
       "    .dataframe thead th {\n",
       "        text-align: right;\n",
       "    }\n",
       "</style>\n",
       "<table border=\"1\" class=\"dataframe\">\n",
       "  <thead>\n",
       "    <tr style=\"text-align: right;\">\n",
       "      <th></th>\n",
       "      <th>order_purchase_timestamp</th>\n",
       "      <th>order_approved_at</th>\n",
       "      <th>order_delivered_carrier_date</th>\n",
       "      <th>order_delivered_customer_date</th>\n",
       "      <th>order_estimated_delivery_date</th>\n",
       "      <th>customer_zip_code_prefix</th>\n",
       "      <th>shipping_limit_date</th>\n",
       "      <th>price</th>\n",
       "      <th>freight_value</th>\n",
       "      <th>payment_sequential</th>\n",
       "      <th>payment_installments</th>\n",
       "      <th>payment_value</th>\n",
       "      <th>seller_zip_code_prefix</th>\n",
       "      <th>tempo_entrega</th>\n",
       "      <th>diferenca_entrega</th>\n",
       "    </tr>\n",
       "  </thead>\n",
       "  <tbody>\n",
       "    <tr>\n",
       "      <th>count</th>\n",
       "      <td>115412</td>\n",
       "      <td>115412</td>\n",
       "      <td>115412</td>\n",
       "      <td>115412</td>\n",
       "      <td>115412</td>\n",
       "      <td>115412.000000</td>\n",
       "      <td>115412</td>\n",
       "      <td>115412.000000</td>\n",
       "      <td>115412.000000</td>\n",
       "      <td>115412.000000</td>\n",
       "      <td>115412.000000</td>\n",
       "      <td>115412.000000</td>\n",
       "      <td>115412.000000</td>\n",
       "      <td>115412.000000</td>\n",
       "      <td>115412.000000</td>\n",
       "    </tr>\n",
       "    <tr>\n",
       "      <th>mean</th>\n",
       "      <td>2017-12-31 10:03:10.050548992</td>\n",
       "      <td>2018-01-09 12:50:24.083388416</td>\n",
       "      <td>2018-10-10 04:24:11.543808256</td>\n",
       "      <td>2018-11-28 00:24:19.486829824</td>\n",
       "      <td>2018-01-24 05:49:01.960974336</td>\n",
       "      <td>35052.131797</td>\n",
       "      <td>2018-01-07 00:57:40.218348032</td>\n",
       "      <td>120.109347</td>\n",
       "      <td>19.972143</td>\n",
       "      <td>1.091585</td>\n",
       "      <td>2.938559</td>\n",
       "      <td>171.726016</td>\n",
       "      <td>24451.352390</td>\n",
       "      <td>321.994871</td>\n",
       "      <td>307.999575</td>\n",
       "    </tr>\n",
       "    <tr>\n",
       "      <th>min</th>\n",
       "      <td>2016-09-05 00:15:34</td>\n",
       "      <td>2016-10-04 09:43:32</td>\n",
       "      <td>2016-10-08 10:34:01</td>\n",
       "      <td>2016-10-11 13:46:32</td>\n",
       "      <td>2016-10-25 00:00:00</td>\n",
       "      <td>1003.000000</td>\n",
       "      <td>2016-09-19 00:15:34</td>\n",
       "      <td>1.000000</td>\n",
       "      <td>0.000000</td>\n",
       "      <td>1.000000</td>\n",
       "      <td>0.000000</td>\n",
       "      <td>0.000000</td>\n",
       "      <td>1001.000000</td>\n",
       "      <td>-66809.000000</td>\n",
       "      <td>-146.000000</td>\n",
       "    </tr>\n",
       "    <tr>\n",
       "      <th>25%</th>\n",
       "      <td>2017-09-12 16:29:02.750000128</td>\n",
       "      <td>2017-09-13 03:24:53.750000128</td>\n",
       "      <td>2017-09-15 19:26:32.249999872</td>\n",
       "      <td>2017-09-25 17:57:50</td>\n",
       "      <td>2017-10-03 00:00:00</td>\n",
       "      <td>11090.000000</td>\n",
       "      <td>2017-09-19 17:09:20.249999872</td>\n",
       "      <td>40.000000</td>\n",
       "      <td>13.000000</td>\n",
       "      <td>1.000000</td>\n",
       "      <td>1.000000</td>\n",
       "      <td>61.000000</td>\n",
       "      <td>6429.000000</td>\n",
       "      <td>6.000000</td>\n",
       "      <td>-16.000000</td>\n",
       "    </tr>\n",
       "    <tr>\n",
       "      <th>50%</th>\n",
       "      <td>2018-01-19 03:30:43</td>\n",
       "      <td>2018-01-19 14:59:24</td>\n",
       "      <td>2018-01-24 01:14:44</td>\n",
       "      <td>2018-02-02 10:16:35</td>\n",
       "      <td>2018-02-15 00:00:00</td>\n",
       "      <td>24240.000000</td>\n",
       "      <td>2018-01-25 19:37:09.500000</td>\n",
       "      <td>75.000000</td>\n",
       "      <td>16.000000</td>\n",
       "      <td>1.000000</td>\n",
       "      <td>2.000000</td>\n",
       "      <td>108.000000</td>\n",
       "      <td>13608.500000</td>\n",
       "      <td>9.000000</td>\n",
       "      <td>-12.000000</td>\n",
       "    </tr>\n",
       "    <tr>\n",
       "      <th>75%</th>\n",
       "      <td>2018-05-04 13:56:23</td>\n",
       "      <td>2018-05-04 21:50:16.500000</td>\n",
       "      <td>2018-05-08 14:48:30</td>\n",
       "      <td>2018-05-16 01:21:41.249999872</td>\n",
       "      <td>2018-05-25 00:00:00</td>\n",
       "      <td>58755.000000</td>\n",
       "      <td>2018-05-10 12:13:55</td>\n",
       "      <td>133.000000</td>\n",
       "      <td>21.000000</td>\n",
       "      <td>1.000000</td>\n",
       "      <td>4.000000</td>\n",
       "      <td>189.000000</td>\n",
       "      <td>27987.750000</td>\n",
       "      <td>15.000000</td>\n",
       "      <td>-6.000000</td>\n",
       "    </tr>\n",
       "    <tr>\n",
       "      <th>max</th>\n",
       "      <td>2018-08-29 15:00:37</td>\n",
       "      <td>2200-01-01 00:00:00</td>\n",
       "      <td>2200-01-01 00:00:00</td>\n",
       "      <td>2200-01-01 00:00:00</td>\n",
       "      <td>2018-10-25 00:00:00</td>\n",
       "      <td>99980.000000</td>\n",
       "      <td>2020-04-09 22:35:08</td>\n",
       "      <td>6735.000000</td>\n",
       "      <td>410.000000</td>\n",
       "      <td>26.000000</td>\n",
       "      <td>24.000000</td>\n",
       "      <td>13664.000000</td>\n",
       "      <td>99730.000000</td>\n",
       "      <td>66925.000000</td>\n",
       "      <td>66907.000000</td>\n",
       "    </tr>\n",
       "    <tr>\n",
       "      <th>std</th>\n",
       "      <td>NaN</td>\n",
       "      <td>NaN</td>\n",
       "      <td>NaN</td>\n",
       "      <td>NaN</td>\n",
       "      <td>NaN</td>\n",
       "      <td>29871.056992</td>\n",
       "      <td>NaN</td>\n",
       "      <td>182.560210</td>\n",
       "      <td>15.720055</td>\n",
       "      <td>0.688572</td>\n",
       "      <td>2.774098</td>\n",
       "      <td>265.339164</td>\n",
       "      <td>27588.499657</td>\n",
       "      <td>4658.706466</td>\n",
       "      <td>4595.578802</td>\n",
       "    </tr>\n",
       "  </tbody>\n",
       "</table>\n",
       "</div>"
      ],
      "text/plain": [
       "            order_purchase_timestamp              order_approved_at  \\\n",
       "count                         115412                         115412   \n",
       "mean   2017-12-31 10:03:10.050548992  2018-01-09 12:50:24.083388416   \n",
       "min              2016-09-05 00:15:34            2016-10-04 09:43:32   \n",
       "25%    2017-09-12 16:29:02.750000128  2017-09-13 03:24:53.750000128   \n",
       "50%              2018-01-19 03:30:43            2018-01-19 14:59:24   \n",
       "75%              2018-05-04 13:56:23     2018-05-04 21:50:16.500000   \n",
       "max              2018-08-29 15:00:37            2200-01-01 00:00:00   \n",
       "std                              NaN                            NaN   \n",
       "\n",
       "        order_delivered_carrier_date  order_delivered_customer_date  \\\n",
       "count                         115412                         115412   \n",
       "mean   2018-10-10 04:24:11.543808256  2018-11-28 00:24:19.486829824   \n",
       "min              2016-10-08 10:34:01            2016-10-11 13:46:32   \n",
       "25%    2017-09-15 19:26:32.249999872            2017-09-25 17:57:50   \n",
       "50%              2018-01-24 01:14:44            2018-02-02 10:16:35   \n",
       "75%              2018-05-08 14:48:30  2018-05-16 01:21:41.249999872   \n",
       "max              2200-01-01 00:00:00            2200-01-01 00:00:00   \n",
       "std                              NaN                            NaN   \n",
       "\n",
       "       order_estimated_delivery_date  customer_zip_code_prefix  \\\n",
       "count                         115412             115412.000000   \n",
       "mean   2018-01-24 05:49:01.960974336              35052.131797   \n",
       "min              2016-10-25 00:00:00               1003.000000   \n",
       "25%              2017-10-03 00:00:00              11090.000000   \n",
       "50%              2018-02-15 00:00:00              24240.000000   \n",
       "75%              2018-05-25 00:00:00              58755.000000   \n",
       "max              2018-10-25 00:00:00              99980.000000   \n",
       "std                              NaN              29871.056992   \n",
       "\n",
       "                 shipping_limit_date          price  freight_value  \\\n",
       "count                         115412  115412.000000  115412.000000   \n",
       "mean   2018-01-07 00:57:40.218348032     120.109347      19.972143   \n",
       "min              2016-09-19 00:15:34       1.000000       0.000000   \n",
       "25%    2017-09-19 17:09:20.249999872      40.000000      13.000000   \n",
       "50%       2018-01-25 19:37:09.500000      75.000000      16.000000   \n",
       "75%              2018-05-10 12:13:55     133.000000      21.000000   \n",
       "max              2020-04-09 22:35:08    6735.000000     410.000000   \n",
       "std                              NaN     182.560210      15.720055   \n",
       "\n",
       "       payment_sequential  payment_installments  payment_value  \\\n",
       "count       115412.000000         115412.000000  115412.000000   \n",
       "mean             1.091585              2.938559     171.726016   \n",
       "min              1.000000              0.000000       0.000000   \n",
       "25%              1.000000              1.000000      61.000000   \n",
       "50%              1.000000              2.000000     108.000000   \n",
       "75%              1.000000              4.000000     189.000000   \n",
       "max             26.000000             24.000000   13664.000000   \n",
       "std              0.688572              2.774098     265.339164   \n",
       "\n",
       "       seller_zip_code_prefix  tempo_entrega  diferenca_entrega  \n",
       "count           115412.000000  115412.000000      115412.000000  \n",
       "mean             24451.352390     321.994871         307.999575  \n",
       "min               1001.000000  -66809.000000        -146.000000  \n",
       "25%               6429.000000       6.000000         -16.000000  \n",
       "50%              13608.500000       9.000000         -12.000000  \n",
       "75%              27987.750000      15.000000          -6.000000  \n",
       "max              99730.000000   66925.000000       66907.000000  \n",
       "std              27588.499657    4658.706466        4595.578802  "
      ]
     },
     "execution_count": 83,
     "metadata": {},
     "output_type": "execute_result"
    }
   ],
   "source": [
    "# Visualizando algumas medidas estatisticas\n",
    "df_original.describe()"
   ]
  },
  {
   "cell_type": "code",
   "execution_count": 84,
   "metadata": {},
   "outputs": [
    {
     "name": "stdout",
     "output_type": "stream",
     "text": [
      "Maior Valor de compra: 6735.0\n",
      "Menor Valor de compra: 1.0\n"
     ]
    }
   ],
   "source": [
    "print('Maior Valor de compra:', df_original['price'].max())\n",
    "print('Menor Valor de compra:', df_original['price'].min())"
   ]
  },
  {
   "cell_type": "code",
   "execution_count": 85,
   "metadata": {},
   "outputs": [
    {
     "data": {
      "text/plain": [
       "order_status\n",
       "CANCELED        553\n",
       "DELIVERED    114859\n",
       "dtype: int64"
      ]
     },
     "execution_count": 85,
     "metadata": {},
     "output_type": "execute_result"
    }
   ],
   "source": [
    "# A variavel alvo precisará ser balanceada na etapa de pré-processamento\n",
    "df_original.groupby(['order_status']).size()"
   ]
  },
  {
   "cell_type": "markdown",
   "metadata": {},
   "source": [
    "# Tratamento"
   ]
  },
  {
   "cell_type": "code",
   "execution_count": 86,
   "metadata": {},
   "outputs": [
    {
     "data": {
      "text/plain": [
       "faixa_preco\n",
       "Até 100 reais             74493\n",
       "101 até 500 reais         37664\n",
       "501 até 1000 reais         2395\n",
       "1001 até 2000 reais         735\n",
       "2001 até 3000 reais          98\n",
       "3001 até 4000 reais          19\n",
       "De 4001 até 5000 reais        6\n",
       "Mais de 5000 reais            2\n",
       "Name: count, dtype: int64"
      ]
     },
     "execution_count": 86,
     "metadata": {},
     "output_type": "execute_result"
    }
   ],
   "source": [
    "# Criando faixa salarial para utilizarmos no modelo preditivo\n",
    "bins = [-100, 100, 500, 1000, 2000, 3000, 4000, 5000, 9000000000]\n",
    "labels = ['Até 100 reais', '101 até 500 reais', '501 até 1000 reais', '1001 até 2000 reais', '2001 até 3000 reais', \n",
    "          '3001 até 4000 reais', 'De 4001 até 5000 reais','Mais de 5000 reais']\n",
    "df_original['faixa_preco'] = pd.cut(df_original['price'], bins=bins, labels=labels)\n",
    "pd.value_counts(df_original.faixa_preco)"
   ]
  },
  {
   "cell_type": "code",
   "execution_count": 87,
   "metadata": {},
   "outputs": [
    {
     "data": {
      "text/html": [
       "<div>\n",
       "<style scoped>\n",
       "    .dataframe tbody tr th:only-of-type {\n",
       "        vertical-align: middle;\n",
       "    }\n",
       "\n",
       "    .dataframe tbody tr th {\n",
       "        vertical-align: top;\n",
       "    }\n",
       "\n",
       "    .dataframe thead th {\n",
       "        text-align: right;\n",
       "    }\n",
       "</style>\n",
       "<table border=\"1\" class=\"dataframe\">\n",
       "  <thead>\n",
       "    <tr style=\"text-align: right;\">\n",
       "      <th></th>\n",
       "      <th>order_id</th>\n",
       "      <th>order_status</th>\n",
       "      <th>order_purchase_timestamp</th>\n",
       "      <th>order_approved_at</th>\n",
       "      <th>order_delivered_carrier_date</th>\n",
       "      <th>order_delivered_customer_date</th>\n",
       "      <th>order_estimated_delivery_date</th>\n",
       "      <th>customer_zip_code_prefix</th>\n",
       "      <th>customer_state</th>\n",
       "      <th>customer_city</th>\n",
       "      <th>shipping_limit_date</th>\n",
       "      <th>price</th>\n",
       "      <th>freight_value</th>\n",
       "      <th>payment_sequential</th>\n",
       "      <th>payment_type</th>\n",
       "      <th>payment_installments</th>\n",
       "      <th>payment_value</th>\n",
       "      <th>product_category_name</th>\n",
       "      <th>seller_zip_code_prefix</th>\n",
       "      <th>seller_city</th>\n",
       "      <th>seller_state</th>\n",
       "      <th>tempo_entrega</th>\n",
       "      <th>diferenca_entrega</th>\n",
       "      <th>faixa_preco</th>\n",
       "    </tr>\n",
       "  </thead>\n",
       "  <tbody>\n",
       "    <tr>\n",
       "      <th>0</th>\n",
       "      <td>ADA48B7CE9FEE2A62CD265BD45A9C97B</td>\n",
       "      <td>DELIVERED</td>\n",
       "      <td>2017-05-28 23:22:32</td>\n",
       "      <td>2017-05-28 23:35:16</td>\n",
       "      <td>2017-05-29 10:34:43</td>\n",
       "      <td>2017-06-28 16:09:45</td>\n",
       "      <td>2017-06-23</td>\n",
       "      <td>73840</td>\n",
       "      <td>GO</td>\n",
       "      <td>CAMPOS BELOS</td>\n",
       "      <td>2017-06-01 23:35:16</td>\n",
       "      <td>140.0</td>\n",
       "      <td>30.0</td>\n",
       "      <td>1</td>\n",
       "      <td>CREDIT_CARD</td>\n",
       "      <td>4</td>\n",
       "      <td>170</td>\n",
       "      <td>MOVEIS_SALA</td>\n",
       "      <td>37580</td>\n",
       "      <td>MONTE SIAO</td>\n",
       "      <td>MG</td>\n",
       "      <td>30.0</td>\n",
       "      <td>5.0</td>\n",
       "      <td>101 até 500 reais</td>\n",
       "    </tr>\n",
       "    <tr>\n",
       "      <th>1</th>\n",
       "      <td>B012C1697921F54E80780E034A93C871</td>\n",
       "      <td>DELIVERED</td>\n",
       "      <td>2018-01-21 11:13:57</td>\n",
       "      <td>2018-01-22 13:47:19</td>\n",
       "      <td>2018-01-23 21:13:24</td>\n",
       "      <td>2018-02-03 13:12:35</td>\n",
       "      <td>2018-02-14</td>\n",
       "      <td>4061</td>\n",
       "      <td>SP</td>\n",
       "      <td>SAO PAULO</td>\n",
       "      <td>2018-01-26 13:47:19</td>\n",
       "      <td>140.0</td>\n",
       "      <td>24.0</td>\n",
       "      <td>1</td>\n",
       "      <td>CREDIT_CARD</td>\n",
       "      <td>10</td>\n",
       "      <td>164</td>\n",
       "      <td>MOVEIS_SALA</td>\n",
       "      <td>37580</td>\n",
       "      <td>MONTE SIAO</td>\n",
       "      <td>MG</td>\n",
       "      <td>11.0</td>\n",
       "      <td>-10.0</td>\n",
       "      <td>101 até 500 reais</td>\n",
       "    </tr>\n",
       "    <tr>\n",
       "      <th>2</th>\n",
       "      <td>B45218774C4D91E22FFD4165C0CBCC38</td>\n",
       "      <td>DELIVERED</td>\n",
       "      <td>2018-02-17 18:05:16</td>\n",
       "      <td>2018-02-17 18:15:30</td>\n",
       "      <td>2018-02-19 10:04:40</td>\n",
       "      <td>2018-03-09 21:09:45</td>\n",
       "      <td>2018-03-14</td>\n",
       "      <td>79803</td>\n",
       "      <td>MS</td>\n",
       "      <td>DOURADOS</td>\n",
       "      <td>2018-02-22 17:15:30</td>\n",
       "      <td>140.0</td>\n",
       "      <td>45.0</td>\n",
       "      <td>1</td>\n",
       "      <td>CREDIT_CARD</td>\n",
       "      <td>1</td>\n",
       "      <td>185</td>\n",
       "      <td>MOVEIS_SALA</td>\n",
       "      <td>37580</td>\n",
       "      <td>MONTE SIAO</td>\n",
       "      <td>MG</td>\n",
       "      <td>20.0</td>\n",
       "      <td>-4.0</td>\n",
       "      <td>101 até 500 reais</td>\n",
       "    </tr>\n",
       "    <tr>\n",
       "      <th>3</th>\n",
       "      <td>DBBA7FF437DCECD5E70B6EA4BB3AB37B</td>\n",
       "      <td>DELIVERED</td>\n",
       "      <td>2018-01-29 22:44:15</td>\n",
       "      <td>2018-01-30 22:35:48</td>\n",
       "      <td>2018-01-31 22:48:48</td>\n",
       "      <td>2018-02-07 19:16:40</td>\n",
       "      <td>2018-02-21</td>\n",
       "      <td>7160</td>\n",
       "      <td>SP</td>\n",
       "      <td>GUARULHOS</td>\n",
       "      <td>2018-02-05 22:35:48</td>\n",
       "      <td>140.0</td>\n",
       "      <td>24.0</td>\n",
       "      <td>1</td>\n",
       "      <td>CREDIT_CARD</td>\n",
       "      <td>6</td>\n",
       "      <td>164</td>\n",
       "      <td>MOVEIS_SALA</td>\n",
       "      <td>37580</td>\n",
       "      <td>MONTE SIAO</td>\n",
       "      <td>MG</td>\n",
       "      <td>7.0</td>\n",
       "      <td>-13.0</td>\n",
       "      <td>101 até 500 reais</td>\n",
       "    </tr>\n",
       "    <tr>\n",
       "      <th>4</th>\n",
       "      <td>F7364D7A775833B673741FAD4D394512</td>\n",
       "      <td>DELIVERED</td>\n",
       "      <td>2017-10-22 19:29:49</td>\n",
       "      <td>2017-10-22 19:49:19</td>\n",
       "      <td>2017-10-23 21:13:16</td>\n",
       "      <td>2017-10-31 19:43:56</td>\n",
       "      <td>2017-11-14</td>\n",
       "      <td>18120</td>\n",
       "      <td>SP</td>\n",
       "      <td>MAIRINQUE</td>\n",
       "      <td>2017-10-26 19:49:19</td>\n",
       "      <td>140.0</td>\n",
       "      <td>32.0</td>\n",
       "      <td>1</td>\n",
       "      <td>CREDIT_CARD</td>\n",
       "      <td>3</td>\n",
       "      <td>172</td>\n",
       "      <td>MOVEIS_SALA</td>\n",
       "      <td>37580</td>\n",
       "      <td>MONTE SIAO</td>\n",
       "      <td>MG</td>\n",
       "      <td>8.0</td>\n",
       "      <td>-13.0</td>\n",
       "      <td>101 até 500 reais</td>\n",
       "    </tr>\n",
       "  </tbody>\n",
       "</table>\n",
       "</div>"
      ],
      "text/plain": [
       "                           order_id order_status order_purchase_timestamp  \\\n",
       "0  ADA48B7CE9FEE2A62CD265BD45A9C97B    DELIVERED      2017-05-28 23:22:32   \n",
       "1  B012C1697921F54E80780E034A93C871    DELIVERED      2018-01-21 11:13:57   \n",
       "2  B45218774C4D91E22FFD4165C0CBCC38    DELIVERED      2018-02-17 18:05:16   \n",
       "3  DBBA7FF437DCECD5E70B6EA4BB3AB37B    DELIVERED      2018-01-29 22:44:15   \n",
       "4  F7364D7A775833B673741FAD4D394512    DELIVERED      2017-10-22 19:29:49   \n",
       "\n",
       "    order_approved_at order_delivered_carrier_date  \\\n",
       "0 2017-05-28 23:35:16          2017-05-29 10:34:43   \n",
       "1 2018-01-22 13:47:19          2018-01-23 21:13:24   \n",
       "2 2018-02-17 18:15:30          2018-02-19 10:04:40   \n",
       "3 2018-01-30 22:35:48          2018-01-31 22:48:48   \n",
       "4 2017-10-22 19:49:19          2017-10-23 21:13:16   \n",
       "\n",
       "  order_delivered_customer_date order_estimated_delivery_date  \\\n",
       "0           2017-06-28 16:09:45                    2017-06-23   \n",
       "1           2018-02-03 13:12:35                    2018-02-14   \n",
       "2           2018-03-09 21:09:45                    2018-03-14   \n",
       "3           2018-02-07 19:16:40                    2018-02-21   \n",
       "4           2017-10-31 19:43:56                    2017-11-14   \n",
       "\n",
       "   customer_zip_code_prefix customer_state customer_city shipping_limit_date  \\\n",
       "0                     73840             GO  CAMPOS BELOS 2017-06-01 23:35:16   \n",
       "1                      4061             SP     SAO PAULO 2018-01-26 13:47:19   \n",
       "2                     79803             MS      DOURADOS 2018-02-22 17:15:30   \n",
       "3                      7160             SP     GUARULHOS 2018-02-05 22:35:48   \n",
       "4                     18120             SP     MAIRINQUE 2017-10-26 19:49:19   \n",
       "\n",
       "   price  freight_value  payment_sequential payment_type  \\\n",
       "0  140.0           30.0                   1  CREDIT_CARD   \n",
       "1  140.0           24.0                   1  CREDIT_CARD   \n",
       "2  140.0           45.0                   1  CREDIT_CARD   \n",
       "3  140.0           24.0                   1  CREDIT_CARD   \n",
       "4  140.0           32.0                   1  CREDIT_CARD   \n",
       "\n",
       "   payment_installments  payment_value product_category_name  \\\n",
       "0                     4            170           MOVEIS_SALA   \n",
       "1                    10            164           MOVEIS_SALA   \n",
       "2                     1            185           MOVEIS_SALA   \n",
       "3                     6            164           MOVEIS_SALA   \n",
       "4                     3            172           MOVEIS_SALA   \n",
       "\n",
       "   seller_zip_code_prefix seller_city seller_state  tempo_entrega  \\\n",
       "0                   37580  MONTE SIAO           MG           30.0   \n",
       "1                   37580  MONTE SIAO           MG           11.0   \n",
       "2                   37580  MONTE SIAO           MG           20.0   \n",
       "3                   37580  MONTE SIAO           MG            7.0   \n",
       "4                   37580  MONTE SIAO           MG            8.0   \n",
       "\n",
       "   diferenca_entrega        faixa_preco  \n",
       "0                5.0  101 até 500 reais  \n",
       "1              -10.0  101 até 500 reais  \n",
       "2               -4.0  101 até 500 reais  \n",
       "3              -13.0  101 até 500 reais  \n",
       "4              -13.0  101 até 500 reais  "
      ]
     },
     "execution_count": 87,
     "metadata": {},
     "output_type": "execute_result"
    }
   ],
   "source": [
    "df_original.head(5)"
   ]
  },
  {
   "cell_type": "code",
   "execution_count": 111,
   "metadata": {},
   "outputs": [],
   "source": [
    "\n",
    "colunas = ['order_status',  \n",
    "           'customer_state', 'customer_city',\n",
    "           'freight_value', 'payment_type','payment_value',\n",
    "           'product_category_name', 'seller_city',\n",
    "           'seller_state','tempo_entrega', 'diferenca_entrega', 'faixa_preco']\n",
    "\n",
    "df_dados = pd.DataFrame(df_original, columns=colunas)"
   ]
  },
  {
   "cell_type": "code",
   "execution_count": 112,
   "metadata": {},
   "outputs": [
    {
     "data": {
      "text/html": [
       "<div>\n",
       "<style scoped>\n",
       "    .dataframe tbody tr th:only-of-type {\n",
       "        vertical-align: middle;\n",
       "    }\n",
       "\n",
       "    .dataframe tbody tr th {\n",
       "        vertical-align: top;\n",
       "    }\n",
       "\n",
       "    .dataframe thead th {\n",
       "        text-align: right;\n",
       "    }\n",
       "</style>\n",
       "<table border=\"1\" class=\"dataframe\">\n",
       "  <thead>\n",
       "    <tr style=\"text-align: right;\">\n",
       "      <th></th>\n",
       "      <th>order_status</th>\n",
       "      <th>customer_state</th>\n",
       "      <th>customer_city</th>\n",
       "      <th>freight_value</th>\n",
       "      <th>payment_type</th>\n",
       "      <th>payment_value</th>\n",
       "      <th>product_category_name</th>\n",
       "      <th>seller_city</th>\n",
       "      <th>seller_state</th>\n",
       "      <th>tempo_entrega</th>\n",
       "      <th>diferenca_entrega</th>\n",
       "      <th>faixa_preco</th>\n",
       "    </tr>\n",
       "  </thead>\n",
       "  <tbody>\n",
       "    <tr>\n",
       "      <th>0</th>\n",
       "      <td>DELIVERED</td>\n",
       "      <td>GO</td>\n",
       "      <td>CAMPOS BELOS</td>\n",
       "      <td>30.0</td>\n",
       "      <td>CREDIT_CARD</td>\n",
       "      <td>170</td>\n",
       "      <td>MOVEIS_SALA</td>\n",
       "      <td>MONTE SIAO</td>\n",
       "      <td>MG</td>\n",
       "      <td>30.0</td>\n",
       "      <td>5.0</td>\n",
       "      <td>101 até 500 reais</td>\n",
       "    </tr>\n",
       "    <tr>\n",
       "      <th>1</th>\n",
       "      <td>DELIVERED</td>\n",
       "      <td>SP</td>\n",
       "      <td>SAO PAULO</td>\n",
       "      <td>24.0</td>\n",
       "      <td>CREDIT_CARD</td>\n",
       "      <td>164</td>\n",
       "      <td>MOVEIS_SALA</td>\n",
       "      <td>MONTE SIAO</td>\n",
       "      <td>MG</td>\n",
       "      <td>11.0</td>\n",
       "      <td>-10.0</td>\n",
       "      <td>101 até 500 reais</td>\n",
       "    </tr>\n",
       "    <tr>\n",
       "      <th>2</th>\n",
       "      <td>DELIVERED</td>\n",
       "      <td>MS</td>\n",
       "      <td>DOURADOS</td>\n",
       "      <td>45.0</td>\n",
       "      <td>CREDIT_CARD</td>\n",
       "      <td>185</td>\n",
       "      <td>MOVEIS_SALA</td>\n",
       "      <td>MONTE SIAO</td>\n",
       "      <td>MG</td>\n",
       "      <td>20.0</td>\n",
       "      <td>-4.0</td>\n",
       "      <td>101 até 500 reais</td>\n",
       "    </tr>\n",
       "    <tr>\n",
       "      <th>3</th>\n",
       "      <td>DELIVERED</td>\n",
       "      <td>SP</td>\n",
       "      <td>GUARULHOS</td>\n",
       "      <td>24.0</td>\n",
       "      <td>CREDIT_CARD</td>\n",
       "      <td>164</td>\n",
       "      <td>MOVEIS_SALA</td>\n",
       "      <td>MONTE SIAO</td>\n",
       "      <td>MG</td>\n",
       "      <td>7.0</td>\n",
       "      <td>-13.0</td>\n",
       "      <td>101 até 500 reais</td>\n",
       "    </tr>\n",
       "    <tr>\n",
       "      <th>4</th>\n",
       "      <td>DELIVERED</td>\n",
       "      <td>SP</td>\n",
       "      <td>MAIRINQUE</td>\n",
       "      <td>32.0</td>\n",
       "      <td>CREDIT_CARD</td>\n",
       "      <td>172</td>\n",
       "      <td>MOVEIS_SALA</td>\n",
       "      <td>MONTE SIAO</td>\n",
       "      <td>MG</td>\n",
       "      <td>8.0</td>\n",
       "      <td>-13.0</td>\n",
       "      <td>101 até 500 reais</td>\n",
       "    </tr>\n",
       "  </tbody>\n",
       "</table>\n",
       "</div>"
      ],
      "text/plain": [
       "  order_status customer_state customer_city  freight_value payment_type  \\\n",
       "0    DELIVERED             GO  CAMPOS BELOS           30.0  CREDIT_CARD   \n",
       "1    DELIVERED             SP     SAO PAULO           24.0  CREDIT_CARD   \n",
       "2    DELIVERED             MS      DOURADOS           45.0  CREDIT_CARD   \n",
       "3    DELIVERED             SP     GUARULHOS           24.0  CREDIT_CARD   \n",
       "4    DELIVERED             SP     MAIRINQUE           32.0  CREDIT_CARD   \n",
       "\n",
       "   payment_value product_category_name seller_city seller_state  \\\n",
       "0            170           MOVEIS_SALA  MONTE SIAO           MG   \n",
       "1            164           MOVEIS_SALA  MONTE SIAO           MG   \n",
       "2            185           MOVEIS_SALA  MONTE SIAO           MG   \n",
       "3            164           MOVEIS_SALA  MONTE SIAO           MG   \n",
       "4            172           MOVEIS_SALA  MONTE SIAO           MG   \n",
       "\n",
       "   tempo_entrega  diferenca_entrega        faixa_preco  \n",
       "0           30.0                5.0  101 até 500 reais  \n",
       "1           11.0              -10.0  101 até 500 reais  \n",
       "2           20.0               -4.0  101 até 500 reais  \n",
       "3            7.0              -13.0  101 até 500 reais  \n",
       "4            8.0              -13.0  101 até 500 reais  "
      ]
     },
     "execution_count": 112,
     "metadata": {},
     "output_type": "execute_result"
    }
   ],
   "source": [
    "df_dados.head()"
   ]
  },
  {
   "cell_type": "code",
   "execution_count": 113,
   "metadata": {},
   "outputs": [
    {
     "data": {
      "text/plain": [
       "(115412, 12)"
      ]
     },
     "execution_count": 113,
     "metadata": {},
     "output_type": "execute_result"
    }
   ],
   "source": [
    "df_dados.shape"
   ]
  },
  {
   "cell_type": "code",
   "execution_count": 114,
   "metadata": {},
   "outputs": [
    {
     "name": "stdout",
     "output_type": "stream",
     "text": [
      "<class 'pandas.core.frame.DataFrame'>\n",
      "RangeIndex: 115412 entries, 0 to 115411\n",
      "Data columns (total 12 columns):\n",
      " #   Column                 Non-Null Count   Dtype   \n",
      "---  ------                 --------------   -----   \n",
      " 0   order_status           115412 non-null  object  \n",
      " 1   customer_state         115412 non-null  object  \n",
      " 2   customer_city          115412 non-null  object  \n",
      " 3   freight_value          115412 non-null  float64 \n",
      " 4   payment_type           115412 non-null  object  \n",
      " 5   payment_value          115412 non-null  int64   \n",
      " 6   product_category_name  115412 non-null  object  \n",
      " 7   seller_city            115412 non-null  object  \n",
      " 8   seller_state           115412 non-null  object  \n",
      " 9   tempo_entrega          115412 non-null  float64 \n",
      " 10  diferenca_entrega      115412 non-null  float64 \n",
      " 11  faixa_preco            115412 non-null  category\n",
      "dtypes: category(1), float64(3), int64(1), object(7)\n",
      "memory usage: 9.8+ MB\n"
     ]
    }
   ],
   "source": [
    "df_dados.info(verbose = True)"
   ]
  },
  {
   "cell_type": "code",
   "execution_count": 115,
   "metadata": {},
   "outputs": [
    {
     "data": {
      "text/plain": [
       "order_status             0\n",
       "customer_state           0\n",
       "customer_city            0\n",
       "freight_value            0\n",
       "payment_type             0\n",
       "payment_value            0\n",
       "product_category_name    0\n",
       "seller_city              0\n",
       "seller_state             0\n",
       "tempo_entrega            0\n",
       "diferenca_entrega        0\n",
       "faixa_preco              0\n",
       "dtype: int64"
      ]
     },
     "execution_count": 115,
     "metadata": {},
     "output_type": "execute_result"
    }
   ],
   "source": [
    "df_dados.isnull().sum()"
   ]
  },
  {
   "cell_type": "markdown",
   "metadata": {},
   "source": [
    "# Análise exploratória \n",
    "\n",
    "Nesta analise temos 2 objetivos: a variável alvo (INADIMPLENTE_COBRANCA), avaliar as variáveis categóricas para conhecimento dos dados e descartar variáveis que não fazem sentido."
   ]
  },
  {
   "cell_type": "code",
   "execution_count": 116,
   "metadata": {},
   "outputs": [
    {
     "data": {
      "image/png": "[encoded data removed]",
      "text/plain": [
       "<Figure size 1400x1400 with 1 Axes>"
      ]
     },
     "metadata": {},
     "output_type": "display_data"
    }
   ],
   "source": [
    "#Analisando como a variavel alvo está distribuida.\n",
    "df_dados.order_status.value_counts().plot(kind='bar', title='Status',color = ['#1F77B4', '#FF7F0E']);\n"
   ]
  },
  {
   "cell_type": "code",
   "execution_count": 117,
   "metadata": {},
   "outputs": [
    {
     "data": {
      "image/png": "[encoded data removed]",
      "text/plain": [
       "<Figure size 1400x350 with 1 Axes>"
      ]
     },
     "metadata": {},
     "output_type": "display_data"
    }
   ],
   "source": [
    "plt.rcParams[\"figure.figsize\"] = [14.00, 3.50]\n",
    "plt.rcParams[\"figure.autolayout\"] = True\n",
    "sns.countplot(data = df_dados, x = \"faixa_preco\", hue = \"order_status\")\n",
    "plt.show()"
   ]
  },
  {
   "cell_type": "code",
   "execution_count": 118,
   "metadata": {},
   "outputs": [
    {
     "data": {
      "image/png": "[encoded data removed]",
      "text/plain": [
       "<Figure size 1200x350 with 1 Axes>"
      ]
     },
     "metadata": {},
     "output_type": "display_data"
    }
   ],
   "source": [
    "plt.rcParams[\"figure.figsize\"] = [12.00, 3.50]\n",
    "plt.rcParams[\"figure.autolayout\"] = True\n",
    "sns.countplot(data = df_dados, x = \"tempo_entrega\", hue = \"order_status\")\n",
    "plt.show()"
   ]
  },
  {
   "cell_type": "markdown",
   "metadata": {},
   "source": [
    "# Analise de Variaveis numericas"
   ]
  },
  {
   "cell_type": "code",
   "execution_count": 119,
   "metadata": {},
   "outputs": [
    {
     "name": "stdout",
     "output_type": "stream",
     "text": [
      "<class 'pandas.core.frame.DataFrame'>\n",
      "RangeIndex: 115412 entries, 0 to 115411\n",
      "Data columns (total 12 columns):\n",
      " #   Column                 Non-Null Count   Dtype   \n",
      "---  ------                 --------------   -----   \n",
      " 0   order_status           115412 non-null  object  \n",
      " 1   customer_state         115412 non-null  object  \n",
      " 2   customer_city          115412 non-null  object  \n",
      " 3   freight_value          115412 non-null  float64 \n",
      " 4   payment_type           115412 non-null  object  \n",
      " 5   payment_value          115412 non-null  int64   \n",
      " 6   product_category_name  115412 non-null  object  \n",
      " 7   seller_city            115412 non-null  object  \n",
      " 8   seller_state           115412 non-null  object  \n",
      " 9   tempo_entrega          115412 non-null  float64 \n",
      " 10  diferenca_entrega      115412 non-null  float64 \n",
      " 11  faixa_preco            115412 non-null  category\n",
      "dtypes: category(1), float64(3), int64(1), object(7)\n",
      "memory usage: 9.8+ MB\n"
     ]
    }
   ],
   "source": [
    "df_dados.info()"
   ]
  },
  {
   "cell_type": "code",
   "execution_count": 120,
   "metadata": {},
   "outputs": [],
   "source": [
    "#carregar variaveis para plot\n",
    "variaveis_numericas = []\n",
    "for i in df_dados.columns[0:12].tolist():\n",
    "        if df_dados.dtypes[i] == 'int64' or df_dados.dtypes[i] == 'float64':                        \n",
    "            variaveis_numericas.append(i)    "
   ]
  },
  {
   "cell_type": "code",
   "execution_count": 121,
   "metadata": {},
   "outputs": [
    {
     "data": {
      "text/plain": [
       "['freight_value', 'payment_value', 'tempo_entrega', 'diferenca_entrega']"
      ]
     },
     "execution_count": 121,
     "metadata": {},
     "output_type": "execute_result"
    }
   ],
   "source": [
    "#Visualizando as variáveis numéricas\n",
    "variaveis_numericas"
   ]
  },
  {
   "cell_type": "code",
   "execution_count": 122,
   "metadata": {},
   "outputs": [
    {
     "data": {
      "text/plain": [
       "4"
      ]
     },
     "execution_count": 122,
     "metadata": {},
     "output_type": "execute_result"
    }
   ],
   "source": [
    "#Quantidade de variaveis\n",
    "len(variaveis_numericas)"
   ]
  },
  {
   "cell_type": "code",
   "execution_count": 124,
   "metadata": {},
   "outputs": [],
   "source": [
    "# carregar variaveis categoricas para OneHotEncoding, ou seja transformar os campos categoricos em valores inteiros\n",
    "# Colocamos o SLICE até 16 porque NÃO precisamos fazer OneHotEncoding para variavel TARGET\n",
    "variaveis_categoricas = []\n",
    "for i in df_dados.columns[0:12].tolist():\n",
    "        if df_dados.dtypes[i] == 'object' or df_dados.dtypes[i] == 'category':                        \n",
    "            variaveis_categoricas.append(i)    "
   ]
  },
  {
   "cell_type": "code",
   "execution_count": 125,
   "metadata": {},
   "outputs": [
    {
     "data": {
      "text/plain": [
       "['order_status',\n",
       " 'customer_state',\n",
       " 'customer_city',\n",
       " 'payment_type',\n",
       " 'product_category_name',\n",
       " 'seller_city',\n",
       " 'seller_state',\n",
       " 'faixa_preco']"
      ]
     },
     "execution_count": 125,
     "metadata": {},
     "output_type": "execute_result"
    }
   ],
   "source": [
    "# Visualizando as variaveis categoricas\n",
    "variaveis_categoricas"
   ]
  },
  {
   "cell_type": "code",
   "execution_count": 126,
   "metadata": {},
   "outputs": [],
   "source": [
    "# Cria o encoder e aplica OneHotEncoder\n",
    "lb = LabelEncoder()\n",
    "\n",
    "for var in variaveis_categoricas:\n",
    "    df_dados[var] = lb.fit_transform(df_dados[var])"
   ]
  },
  {
   "cell_type": "code",
   "execution_count": 127,
   "metadata": {},
   "outputs": [
    {
     "data": {
      "text/html": [
       "<div>\n",
       "<style scoped>\n",
       "    .dataframe tbody tr th:only-of-type {\n",
       "        vertical-align: middle;\n",
       "    }\n",
       "\n",
       "    .dataframe tbody tr th {\n",
       "        vertical-align: top;\n",
       "    }\n",
       "\n",
       "    .dataframe thead th {\n",
       "        text-align: right;\n",
       "    }\n",
       "</style>\n",
       "<table border=\"1\" class=\"dataframe\">\n",
       "  <thead>\n",
       "    <tr style=\"text-align: right;\">\n",
       "      <th></th>\n",
       "      <th>order_status</th>\n",
       "      <th>customer_state</th>\n",
       "      <th>customer_city</th>\n",
       "      <th>freight_value</th>\n",
       "      <th>payment_type</th>\n",
       "      <th>payment_value</th>\n",
       "      <th>product_category_name</th>\n",
       "      <th>seller_city</th>\n",
       "      <th>seller_state</th>\n",
       "      <th>tempo_entrega</th>\n",
       "      <th>diferenca_entrega</th>\n",
       "      <th>faixa_preco</th>\n",
       "    </tr>\n",
       "  </thead>\n",
       "  <tbody>\n",
       "    <tr>\n",
       "      <th>0</th>\n",
       "      <td>1</td>\n",
       "      <td>8</td>\n",
       "      <td>728</td>\n",
       "      <td>30.0</td>\n",
       "      <td>1</td>\n",
       "      <td>170</td>\n",
       "      <td>57</td>\n",
       "      <td>342</td>\n",
       "      <td>7</td>\n",
       "      <td>30.0</td>\n",
       "      <td>5.0</td>\n",
       "      <td>1</td>\n",
       "    </tr>\n",
       "    <tr>\n",
       "      <th>1</th>\n",
       "      <td>1</td>\n",
       "      <td>25</td>\n",
       "      <td>3562</td>\n",
       "      <td>24.0</td>\n",
       "      <td>1</td>\n",
       "      <td>164</td>\n",
       "      <td>57</td>\n",
       "      <td>342</td>\n",
       "      <td>7</td>\n",
       "      <td>11.0</td>\n",
       "      <td>-10.0</td>\n",
       "      <td>1</td>\n",
       "    </tr>\n",
       "    <tr>\n",
       "      <th>2</th>\n",
       "      <td>1</td>\n",
       "      <td>11</td>\n",
       "      <td>1216</td>\n",
       "      <td>45.0</td>\n",
       "      <td>1</td>\n",
       "      <td>185</td>\n",
       "      <td>57</td>\n",
       "      <td>342</td>\n",
       "      <td>7</td>\n",
       "      <td>20.0</td>\n",
       "      <td>-4.0</td>\n",
       "      <td>1</td>\n",
       "    </tr>\n",
       "    <tr>\n",
       "      <th>3</th>\n",
       "      <td>1</td>\n",
       "      <td>25</td>\n",
       "      <td>1518</td>\n",
       "      <td>24.0</td>\n",
       "      <td>1</td>\n",
       "      <td>164</td>\n",
       "      <td>57</td>\n",
       "      <td>342</td>\n",
       "      <td>7</td>\n",
       "      <td>7.0</td>\n",
       "      <td>-13.0</td>\n",
       "      <td>1</td>\n",
       "    </tr>\n",
       "    <tr>\n",
       "      <th>4</th>\n",
       "      <td>1</td>\n",
       "      <td>25</td>\n",
       "      <td>2152</td>\n",
       "      <td>32.0</td>\n",
       "      <td>1</td>\n",
       "      <td>172</td>\n",
       "      <td>57</td>\n",
       "      <td>342</td>\n",
       "      <td>7</td>\n",
       "      <td>8.0</td>\n",
       "      <td>-13.0</td>\n",
       "      <td>1</td>\n",
       "    </tr>\n",
       "  </tbody>\n",
       "</table>\n",
       "</div>"
      ],
      "text/plain": [
       "   order_status  customer_state  customer_city  freight_value  payment_type  \\\n",
       "0             1               8            728           30.0             1   \n",
       "1             1              25           3562           24.0             1   \n",
       "2             1              11           1216           45.0             1   \n",
       "3             1              25           1518           24.0             1   \n",
       "4             1              25           2152           32.0             1   \n",
       "\n",
       "   payment_value  product_category_name  seller_city  seller_state  \\\n",
       "0            170                     57          342             7   \n",
       "1            164                     57          342             7   \n",
       "2            185                     57          342             7   \n",
       "3            164                     57          342             7   \n",
       "4            172                     57          342             7   \n",
       "\n",
       "   tempo_entrega  diferenca_entrega  faixa_preco  \n",
       "0           30.0                5.0            1  \n",
       "1           11.0              -10.0            1  \n",
       "2           20.0               -4.0            1  \n",
       "3            7.0              -13.0            1  \n",
       "4            8.0              -13.0            1  "
      ]
     },
     "execution_count": 127,
     "metadata": {},
     "output_type": "execute_result"
    }
   ],
   "source": [
    "df_dados.head()"
   ]
  },
  {
   "cell_type": "code",
   "execution_count": 128,
   "metadata": {},
   "outputs": [
    {
     "name": "stdout",
     "output_type": "stream",
     "text": [
      "<class 'pandas.core.frame.DataFrame'>\n",
      "RangeIndex: 115412 entries, 0 to 115411\n",
      "Data columns (total 12 columns):\n",
      " #   Column                 Non-Null Count   Dtype  \n",
      "---  ------                 --------------   -----  \n",
      " 0   order_status           115412 non-null  int64  \n",
      " 1   customer_state         115412 non-null  int64  \n",
      " 2   customer_city          115412 non-null  int64  \n",
      " 3   freight_value          115412 non-null  float64\n",
      " 4   payment_type           115412 non-null  int64  \n",
      " 5   payment_value          115412 non-null  int64  \n",
      " 6   product_category_name  115412 non-null  int64  \n",
      " 7   seller_city            115412 non-null  int64  \n",
      " 8   seller_state           115412 non-null  int64  \n",
      " 9   tempo_entrega          115412 non-null  float64\n",
      " 10  diferenca_entrega      115412 non-null  float64\n",
      " 11  faixa_preco            115412 non-null  int64  \n",
      "dtypes: float64(3), int64(9)\n",
      "memory usage: 10.6 MB\n"
     ]
    }
   ],
   "source": [
    "# Visualizando os tipos das variaveis\n",
    "df_dados.info()"
   ]
  },
  {
   "cell_type": "markdown",
   "metadata": {},
   "source": [
    "# Balanceamento"
   ]
  },
  {
   "cell_type": "code",
   "execution_count": 129,
   "metadata": {},
   "outputs": [
    {
     "data": {
      "text/plain": [
       "order_status\n",
       "1    114859\n",
       "0       553\n",
       "Name: count, dtype: int64"
      ]
     },
     "execution_count": 129,
     "metadata": {},
     "output_type": "execute_result"
    }
   ],
   "source": [
    "# Visualiznado a quantidade da variavel target para balanceamento\n",
    "variavel_target = df_dados.order_status.value_counts()\n",
    "variavel_target"
   ]
  },
  {
   "cell_type": "code",
   "execution_count": 130,
   "metadata": {},
   "outputs": [],
   "source": [
    "#Separar variaveis preditoras e target\n",
    "PREDITORAS = df_dados.iloc[:, 1:11]  \n",
    "TARGET = df_dados.iloc[:, 0] "
   ]
  },
  {
   "cell_type": "code",
   "execution_count": 131,
   "metadata": {},
   "outputs": [
    {
     "data": {
      "text/html": [
       "<div>\n",
       "<style scoped>\n",
       "    .dataframe tbody tr th:only-of-type {\n",
       "        vertical-align: middle;\n",
       "    }\n",
       "\n",
       "    .dataframe tbody tr th {\n",
       "        vertical-align: top;\n",
       "    }\n",
       "\n",
       "    .dataframe thead th {\n",
       "        text-align: right;\n",
       "    }\n",
       "</style>\n",
       "<table border=\"1\" class=\"dataframe\">\n",
       "  <thead>\n",
       "    <tr style=\"text-align: right;\">\n",
       "      <th></th>\n",
       "      <th>customer_state</th>\n",
       "      <th>customer_city</th>\n",
       "      <th>freight_value</th>\n",
       "      <th>payment_type</th>\n",
       "      <th>payment_value</th>\n",
       "      <th>product_category_name</th>\n",
       "      <th>seller_city</th>\n",
       "      <th>seller_state</th>\n",
       "      <th>tempo_entrega</th>\n",
       "      <th>diferenca_entrega</th>\n",
       "    </tr>\n",
       "  </thead>\n",
       "  <tbody>\n",
       "    <tr>\n",
       "      <th>0</th>\n",
       "      <td>8</td>\n",
       "      <td>728</td>\n",
       "      <td>30.0</td>\n",
       "      <td>1</td>\n",
       "      <td>170</td>\n",
       "      <td>57</td>\n",
       "      <td>342</td>\n",
       "      <td>7</td>\n",
       "      <td>30.0</td>\n",
       "      <td>5.0</td>\n",
       "    </tr>\n",
       "    <tr>\n",
       "      <th>1</th>\n",
       "      <td>25</td>\n",
       "      <td>3562</td>\n",
       "      <td>24.0</td>\n",
       "      <td>1</td>\n",
       "      <td>164</td>\n",
       "      <td>57</td>\n",
       "      <td>342</td>\n",
       "      <td>7</td>\n",
       "      <td>11.0</td>\n",
       "      <td>-10.0</td>\n",
       "    </tr>\n",
       "    <tr>\n",
       "      <th>2</th>\n",
       "      <td>11</td>\n",
       "      <td>1216</td>\n",
       "      <td>45.0</td>\n",
       "      <td>1</td>\n",
       "      <td>185</td>\n",
       "      <td>57</td>\n",
       "      <td>342</td>\n",
       "      <td>7</td>\n",
       "      <td>20.0</td>\n",
       "      <td>-4.0</td>\n",
       "    </tr>\n",
       "    <tr>\n",
       "      <th>3</th>\n",
       "      <td>25</td>\n",
       "      <td>1518</td>\n",
       "      <td>24.0</td>\n",
       "      <td>1</td>\n",
       "      <td>164</td>\n",
       "      <td>57</td>\n",
       "      <td>342</td>\n",
       "      <td>7</td>\n",
       "      <td>7.0</td>\n",
       "      <td>-13.0</td>\n",
       "    </tr>\n",
       "    <tr>\n",
       "      <th>4</th>\n",
       "      <td>25</td>\n",
       "      <td>2152</td>\n",
       "      <td>32.0</td>\n",
       "      <td>1</td>\n",
       "      <td>172</td>\n",
       "      <td>57</td>\n",
       "      <td>342</td>\n",
       "      <td>7</td>\n",
       "      <td>8.0</td>\n",
       "      <td>-13.0</td>\n",
       "    </tr>\n",
       "  </tbody>\n",
       "</table>\n",
       "</div>"
      ],
      "text/plain": [
       "   customer_state  customer_city  freight_value  payment_type  payment_value  \\\n",
       "0               8            728           30.0             1            170   \n",
       "1              25           3562           24.0             1            164   \n",
       "2              11           1216           45.0             1            185   \n",
       "3              25           1518           24.0             1            164   \n",
       "4              25           2152           32.0             1            172   \n",
       "\n",
       "   product_category_name  seller_city  seller_state  tempo_entrega  \\\n",
       "0                     57          342             7           30.0   \n",
       "1                     57          342             7           11.0   \n",
       "2                     57          342             7           20.0   \n",
       "3                     57          342             7            7.0   \n",
       "4                     57          342             7            8.0   \n",
       "\n",
       "   diferenca_entrega  \n",
       "0                5.0  \n",
       "1              -10.0  \n",
       "2               -4.0  \n",
       "3              -13.0  \n",
       "4              -13.0  "
      ]
     },
     "execution_count": 131,
     "metadata": {},
     "output_type": "execute_result"
    }
   ],
   "source": [
    "# Visualizando as variaveis preditoras\n",
    "PREDITORAS.head()"
   ]
  },
  {
   "cell_type": "code",
   "execution_count": 132,
   "metadata": {},
   "outputs": [
    {
     "data": {
      "text/plain": [
       "0    1\n",
       "1    1\n",
       "2    1\n",
       "3    1\n",
       "4    1\n",
       "Name: order_status, dtype: int64"
      ]
     },
     "execution_count": 132,
     "metadata": {},
     "output_type": "execute_result"
    }
   ],
   "source": [
    "# Visualizando a variavel target\n",
    "TARGET.head()"
   ]
  },
  {
   "cell_type": "code",
   "execution_count": 133,
   "metadata": {},
   "outputs": [],
   "source": [
    "# Seed para reproduzir o mesmo resultado\n",
    "seed = 100\n",
    "\n",
    "# Cria o balanceador SMOTE\n",
    "balanceador = SMOTE(random_state = seed)\n",
    "\n",
    "# Aplica o balanceador\n",
    "PREDITORAS_RES, TARGET_RES = balanceador.fit_resample(PREDITORAS, TARGET)"
   ]
  },
  {
   "cell_type": "code",
   "execution_count": 135,
   "metadata": {},
   "outputs": [
    {
     "data": {
      "image/png": "[encoded data removed]",
      "text/plain": [
       "<Figure size 1200x500 with 1 Axes>"
      ]
     },
     "metadata": {},
     "output_type": "display_data"
    }
   ],
   "source": [
    "# Visualizando o balanceamento da variável TARGET\n",
    "plt.rcParams[\"figure.figsize\"] = [12.00, 5.00]\n",
    "plt.rcParams[\"figure.autolayout\"] = True\n",
    "TARGET_RES.value_counts().plot(kind='bar', title='Status entrega',color = ['#1F77B4', '#FF7F0E']);"
   ]
  },
  {
   "cell_type": "code",
   "execution_count": 136,
   "metadata": {},
   "outputs": [
    {
     "data": {
      "text/plain": [
       "(115412, 10)"
      ]
     },
     "execution_count": 136,
     "metadata": {},
     "output_type": "execute_result"
    }
   ],
   "source": [
    "# Quantidade de registros antes do balanceamento\n",
    "PREDITORAS.shape"
   ]
  },
  {
   "cell_type": "code",
   "execution_count": 137,
   "metadata": {},
   "outputs": [
    {
     "data": {
      "text/plain": [
       "(115412,)"
      ]
     },
     "execution_count": 137,
     "metadata": {},
     "output_type": "execute_result"
    }
   ],
   "source": [
    "# Quantidade de registros antes do balanceamento\n",
    "TARGET.shape"
   ]
  },
  {
   "cell_type": "code",
   "execution_count": 138,
   "metadata": {},
   "outputs": [
    {
     "data": {
      "text/plain": [
       "(229718, 10)"
      ]
     },
     "execution_count": 138,
     "metadata": {},
     "output_type": "execute_result"
    }
   ],
   "source": [
    "# Quantidade de registros após do balanceamento\n",
    "PREDITORAS_RES.shape"
   ]
  },
  {
   "cell_type": "code",
   "execution_count": 139,
   "metadata": {},
   "outputs": [
    {
     "data": {
      "text/plain": [
       "(229718,)"
      ]
     },
     "execution_count": 139,
     "metadata": {},
     "output_type": "execute_result"
    }
   ],
   "source": [
    "# Quantidade de registros após do balanceamento\n",
    "TARGET_RES.shape"
   ]
  },
  {
   "cell_type": "markdown",
   "metadata": {},
   "source": [
    "# Separação e normalização dos dados / Criação e treino do modelo / Avaliação de métricas"
   ]
  },
  {
   "cell_type": "code",
   "execution_count": 140,
   "metadata": {},
   "outputs": [],
   "source": [
    "# Divisão em Dados de Treino e Teste.\n",
    "X_treino, X_teste, Y_treino, Y_teste = train_test_split(PREDITORAS_RES, TARGET_RES, test_size = 0.3, random_state = 42)"
   ]
  },
  {
   "cell_type": "code",
   "execution_count": 141,
   "metadata": {},
   "outputs": [],
   "source": [
    "# Normalizando as Variáveis - Pré Processamento dos Dados\n",
    "Normalizador = MinMaxScaler()\n",
    "X_treino_normalizados = Normalizador.fit_transform(X_treino)\n",
    "X_teste_normalizados = Normalizador.transform(X_teste)"
   ]
  },
  {
   "cell_type": "code",
   "execution_count": 142,
   "metadata": {},
   "outputs": [
    {
     "data": {
      "text/plain": [
       "(160802, 10)"
      ]
     },
     "execution_count": 142,
     "metadata": {},
     "output_type": "execute_result"
    }
   ],
   "source": [
    "# visualizando a dimensão dos dados de treino\n",
    "X_treino_normalizados.shape"
   ]
  },
  {
   "cell_type": "code",
   "execution_count": 143,
   "metadata": {},
   "outputs": [
    {
     "data": {
      "text/plain": [
       "array([[0.96153846, 0.87236649, 0.04634146, ..., 0.66666667, 0.49953629,\n",
       "        0.00207299],\n",
       "       [0.96153846, 0.50930916, 0.03658537, ..., 0.66666667, 0.49956621,\n",
       "        0.00207299],\n",
       "       [0.96153846, 0.79152376, 0.03658537, ..., 0.9047619 , 0.49948393,\n",
       "        0.00193876],\n",
       "       ...,\n",
       "       [0.96153846, 0.87236649, 0.04146341, ..., 1.        , 0.99778615,\n",
       "        0.99557067],\n",
       "       [0.84615385, 0.2922587 , 0.0430857 , ..., 0.80952381, 0.99773531,\n",
       "        0.99536988],\n",
       "       [0.69230769, 0.7655561 , 0.04501084, ..., 0.80952381, 0.99726277,\n",
       "        0.99456499]])"
      ]
     },
     "execution_count": 143,
     "metadata": {},
     "output_type": "execute_result"
    }
   ],
   "source": [
    "# visualizando os dados de treino normalizados\n",
    "X_treino_normalizados"
   ]
  },
  {
   "cell_type": "code",
   "execution_count": 144,
   "metadata": {},
   "outputs": [],
   "source": [
    "# Criando o classificador com Random Forest\n",
    "clf = RandomForestClassifier(n_estimators  = 300)\n",
    "\n",
    "# Construção do modelo\n",
    "clf = clf.fit(X_treino_normalizados, Y_treino)"
   ]
  },
  {
   "cell_type": "code",
   "execution_count": 145,
   "metadata": {},
   "outputs": [],
   "source": [
    "# Criando o classificador com SVC\n",
    "clf2 = SVC()\n",
    "\n",
    "# Construção do modelo\n",
    "clf2 = clf2.fit(X_treino_normalizados, Y_treino)"
   ]
  },
  {
   "cell_type": "code",
   "execution_count": 146,
   "metadata": {},
   "outputs": [],
   "source": [
    "# Criando o classificador com Logistic Regression\n",
    "clf3 = LogisticRegression()\n",
    "\n",
    "# Construção do modelo\n",
    "clf3 = clf3.fit(X_treino_normalizados, Y_treino)"
   ]
  },
  {
   "cell_type": "code",
   "execution_count": 147,
   "metadata": {},
   "outputs": [],
   "source": [
    "# Criando o classificador com Decision Tree \n",
    "clf4 = DecisionTreeClassifier()\n",
    "\n",
    "# Construção do modelo\n",
    "clf4 = clf4.fit(X_treino_normalizados, Y_treino)"
   ]
  },
  {
   "cell_type": "code",
   "execution_count": 148,
   "metadata": {},
   "outputs": [],
   "source": [
    "# Criando o classificador com KNeighbors\n",
    "clf5 = KNeighborsClassifier()\n",
    "\n",
    "# Construção do modelo\n",
    "clf5 = clf5.fit(X_treino_normalizados, Y_treino)"
   ]
  },
  {
   "cell_type": "code",
   "execution_count": 149,
   "metadata": {},
   "outputs": [],
   "source": [
    "# Criando o classificador com MLP\n",
    "clf6 = MLPClassifier()\n",
    "\n",
    "# Construção do modelo\n",
    "clf6 = clf6.fit(X_treino_normalizados, Y_treino)"
   ]
  },
  {
   "cell_type": "code",
   "execution_count": 150,
   "metadata": {},
   "outputs": [],
   "source": [
    "# Criando o classificador com Gradient Boosting\n",
    "clf7 = GradientBoostingClassifier()\n",
    "\n",
    "# Construção do modelo\n",
    "clf7 = clf7.fit(X_treino_normalizados, Y_treino)"
   ]
  },
  {
   "cell_type": "code",
   "execution_count": 74,
   "metadata": {},
   "outputs": [],
   "source": [
    "# # Criando o classificador com XGB\n",
    "# clf8 = XGBClassifier()\n",
    "\n",
    "# # Construção do modelo\n",
    "# clf8 = clf8.fit(X_treino_normalizados, Y_treino)"
   ]
  },
  {
   "cell_type": "code",
   "execution_count": 151,
   "metadata": {},
   "outputs": [
    {
     "name": "stdout",
     "output_type": "stream",
     "text": [
      "[LightGBM] [Info] Number of positive: 80543, number of negative: 80259\n",
      "[LightGBM] [Info] Auto-choosing row-wise multi-threading, the overhead of testing was 0.002198 seconds.\n",
      "You can set `force_row_wise=true` to remove the overhead.\n",
      "And if memory is not enough, you can set `force_col_wise=true`.\n",
      "[LightGBM] [Info] Total Bins 1649\n",
      "[LightGBM] [Info] Number of data points in the train set: 160802, number of used features: 10\n",
      "[LightGBM] [Info] [binary:BoostFromScore]: pavg=0.500883 -> initscore=0.003532\n",
      "[LightGBM] [Info] Start training from score 0.003532\n"
     ]
    }
   ],
   "source": [
    "# Criando o classificador com LGBM\n",
    "clf9 = LGBMClassifier()\n",
    "\n",
    "# Construção do modelo\n",
    "clf9 = clf9.fit(X_treino_normalizados, Y_treino)"
   ]
  },
  {
   "cell_type": "code",
   "execution_count": 152,
   "metadata": {},
   "outputs": [
    {
     "data": {
      "text/plain": [
       "0.9999564687445586"
      ]
     },
     "execution_count": 152,
     "metadata": {},
     "output_type": "execute_result"
    }
   ],
   "source": [
    "# Verificando a acuracia do modelo com dados de teste Random Forest\n",
    "scores = clf.score(X_teste_normalizados,Y_teste)\n",
    "scores"
   ]
  },
  {
   "cell_type": "code",
   "execution_count": 153,
   "metadata": {},
   "outputs": [
    {
     "data": {
      "text/plain": [
       "0.9928753845260897"
      ]
     },
     "execution_count": 153,
     "metadata": {},
     "output_type": "execute_result"
    }
   ],
   "source": [
    "# Verificando a acuracia do modelo com dados de teste SVC\n",
    "scores = clf2.score(X_teste_normalizados,Y_teste)\n",
    "scores"
   ]
  },
  {
   "cell_type": "code",
   "execution_count": 154,
   "metadata": {},
   "outputs": [
    {
     "data": {
      "text/plain": [
       "0.9928753845260897"
      ]
     },
     "execution_count": 154,
     "metadata": {},
     "output_type": "execute_result"
    }
   ],
   "source": [
    "# Verificando a acuracia do modelo com dados de teste Logistic Regression\n",
    "scores = clf3.score(X_teste_normalizados,Y_teste)\n",
    "scores"
   ]
  },
  {
   "cell_type": "code",
   "execution_count": 155,
   "metadata": {},
   "outputs": [
    {
     "data": {
      "text/plain": [
       "0.9997243020488711"
      ]
     },
     "execution_count": 155,
     "metadata": {},
     "output_type": "execute_result"
    }
   ],
   "source": [
    "# Verificando a acuracia do modelo com dados de teste Decision Tree \n",
    "scores = clf4.score(X_teste_normalizados,Y_teste)\n",
    "scores"
   ]
  },
  {
   "cell_type": "code",
   "execution_count": 156,
   "metadata": {},
   "outputs": [
    {
     "data": {
      "text/plain": [
       "0.999318010331418"
      ]
     },
     "execution_count": 156,
     "metadata": {},
     "output_type": "execute_result"
    }
   ],
   "source": [
    "# Verificando a acuracia do modelo com dados de teste KNeighbors\n",
    "scores = clf5.score(X_teste_normalizados,Y_teste)\n",
    "scores"
   ]
  },
  {
   "cell_type": "code",
   "execution_count": 157,
   "metadata": {},
   "outputs": [
    {
     "data": {
      "text/plain": [
       "0.998360322711707"
      ]
     },
     "execution_count": 157,
     "metadata": {},
     "output_type": "execute_result"
    }
   ],
   "source": [
    "# Verificando a acuracia do modelo com dados de teste MLP\n",
    "scores = clf6.score(X_teste_normalizados,Y_teste)\n",
    "scores"
   ]
  },
  {
   "cell_type": "code",
   "execution_count": 158,
   "metadata": {},
   "outputs": [
    {
     "data": {
      "text/plain": [
       "0.9989262290324453"
      ]
     },
     "execution_count": 158,
     "metadata": {},
     "output_type": "execute_result"
    }
   ],
   "source": [
    "# Verificando a acuracia do modelo com dados de teste Gradient Boosting\n",
    "scores = clf7.score(X_teste_normalizados,Y_teste)\n",
    "scores"
   ]
  },
  {
   "cell_type": "code",
   "execution_count": 159,
   "metadata": {},
   "outputs": [],
   "source": [
    "# # Verificando a acuracia do modelo com dados de teste XGB\n",
    "# scores = clf8.score(X_teste_normalizados,Y_teste)\n",
    "# scores"
   ]
  },
  {
   "cell_type": "code",
   "execution_count": 160,
   "metadata": {},
   "outputs": [
    {
     "data": {
      "text/plain": [
       "0.9999129374891171"
      ]
     },
     "execution_count": 160,
     "metadata": {},
     "output_type": "execute_result"
    }
   ],
   "source": [
    "# Verificando a acuracia do modelo com dados de teste LGBM\n",
    "scores = clf9.score(X_teste_normalizados,Y_teste)\n",
    "scores"
   ]
  },
  {
   "cell_type": "markdown",
   "metadata": {},
   "source": [
    "Identificado que a Random Forest foi o melhor modelo para ser utilizado devido sua melhor acuracia."
   ]
  },
  {
   "cell_type": "code",
   "execution_count": 161,
   "metadata": {},
   "outputs": [
    {
     "data": {
      "image/png": "[encoded data removed]",
      "text/plain": [
       "<Figure size 1000x1000 with 1 Axes>"
      ]
     },
     "metadata": {},
     "output_type": "display_data"
    }
   ],
   "source": [
    "# Exibindo a importancia de cada variavel no modelo preditivo\n",
    "plt.rcParams[\"figure.figsize\"] = [10.00, 10.00]\n",
    "plt.rcParams[\"figure.autolayout\"] = True\n",
    "\n",
    "importances = pd.Series(data=clf.feature_importances_, index=PREDITORAS.columns)\n",
    "importances = importances.sort_values(ascending = False)\n",
    "sns.barplot(x=importances, y=importances.index, orient='h').set_title('Importância de cada variável')\n",
    "plt.show()"
   ]
  },
  {
   "cell_type": "code",
   "execution_count": 162,
   "metadata": {},
   "outputs": [
    {
     "data": {
      "text/plain": [
       "diferenca_entrega        0.489325\n",
       "tempo_entrega            0.473297\n",
       "product_category_name    0.010762\n",
       "freight_value            0.005539\n",
       "customer_state           0.005399\n",
       "seller_state             0.005298\n",
       "seller_city              0.004116\n",
       "payment_value            0.003413\n",
       "customer_city            0.002363\n",
       "payment_type             0.000488\n",
       "dtype: float64"
      ]
     },
     "execution_count": 162,
     "metadata": {},
     "output_type": "execute_result"
    }
   ],
   "source": [
    "importances.sort_values(ascending = False)"
   ]
  },
  {
   "cell_type": "code",
   "execution_count": 163,
   "metadata": {},
   "outputs": [
    {
     "data": {
      "text/plain": [
       "['modelo_status_treinado.pk']"
      ]
     },
     "execution_count": 163,
     "metadata": {},
     "output_type": "execute_result"
    }
   ],
   "source": [
    "# Salvando o modelo criado e treinado\n",
    "joblib.dump(clf, 'modelo_status_treinado.pk')"
   ]
  },
  {
   "cell_type": "markdown",
   "metadata": {},
   "source": [
    "# Preparação para produção"
   ]
  },
  {
   "cell_type": "code",
   "execution_count": 167,
   "metadata": {},
   "outputs": [],
   "source": [
    "# Carregando o modelo treinado\n",
    "clf = joblib.load('modelo_status_treinado.pk')"
   ]
  },
  {
   "cell_type": "code",
   "execution_count": 168,
   "metadata": {},
   "outputs": [],
   "source": [
    "#Importação do arquivo de dados\n",
    "\n",
    "# Cria a conexão com o SQL Server passando os parametros (Servidor, Usuário, Senha, Database)\n",
    "conexao = sql.connect(database = \"olist\", host = \"localhost\", user = \"etlolist\", password = \"abc123\", port = \"5433\")\n",
    "\n",
    "# Chama a consulta ao banco de dados passando os parametros da conexão criada\n",
    "df_original = pd.read_sql_query('select * from dw_entrega', conexao)\n",
    "\n",
    "# Fecha conexão com banco de dados\n",
    "conexao.close()"
   ]
  },
  {
   "cell_type": "code",
   "execution_count": 170,
   "metadata": {},
   "outputs": [
    {
     "data": {
      "text/html": [
       "<div>\n",
       "<style scoped>\n",
       "    .dataframe tbody tr th:only-of-type {\n",
       "        vertical-align: middle;\n",
       "    }\n",
       "\n",
       "    .dataframe tbody tr th {\n",
       "        vertical-align: top;\n",
       "    }\n",
       "\n",
       "    .dataframe thead th {\n",
       "        text-align: right;\n",
       "    }\n",
       "</style>\n",
       "<table border=\"1\" class=\"dataframe\">\n",
       "  <thead>\n",
       "    <tr style=\"text-align: right;\">\n",
       "      <th></th>\n",
       "      <th>order_id</th>\n",
       "      <th>order_status</th>\n",
       "      <th>order_purchase_timestamp</th>\n",
       "      <th>order_approved_at</th>\n",
       "      <th>order_delivered_carrier_date</th>\n",
       "      <th>order_delivered_customer_date</th>\n",
       "      <th>order_estimated_delivery_date</th>\n",
       "      <th>customer_zip_code_prefix</th>\n",
       "      <th>customer_state</th>\n",
       "      <th>customer_city</th>\n",
       "      <th>shipping_limit_date</th>\n",
       "      <th>price</th>\n",
       "      <th>freight_value</th>\n",
       "      <th>payment_sequential</th>\n",
       "      <th>payment_type</th>\n",
       "      <th>payment_installments</th>\n",
       "      <th>payment_value</th>\n",
       "      <th>product_category_name</th>\n",
       "      <th>seller_zip_code_prefix</th>\n",
       "      <th>seller_city</th>\n",
       "      <th>seller_state</th>\n",
       "      <th>tempo_entrega</th>\n",
       "      <th>diferenca_entrega</th>\n",
       "      <th>faixa_preco</th>\n",
       "      <th>PREVISOES</th>\n",
       "      <th>PROBABILIDADES</th>\n",
       "    </tr>\n",
       "  </thead>\n",
       "  <tbody>\n",
       "    <tr>\n",
       "      <th>0</th>\n",
       "      <td>ADA48B7CE9FEE2A62CD265BD45A9C97B</td>\n",
       "      <td>DELIVERED</td>\n",
       "      <td>2017-05-28 23:22:32</td>\n",
       "      <td>2017-05-28 23:35:16</td>\n",
       "      <td>2017-05-29 10:34:43</td>\n",
       "      <td>2017-06-28 16:09:45</td>\n",
       "      <td>2017-06-23</td>\n",
       "      <td>73840</td>\n",
       "      <td>GO</td>\n",
       "      <td>CAMPOS BELOS</td>\n",
       "      <td>2017-06-01 23:35:16</td>\n",
       "      <td>140.0</td>\n",
       "      <td>30.0</td>\n",
       "      <td>1</td>\n",
       "      <td>CREDIT_CARD</td>\n",
       "      <td>4</td>\n",
       "      <td>170</td>\n",
       "      <td>MOVEIS_SALA</td>\n",
       "      <td>37580</td>\n",
       "      <td>MONTE SIAO</td>\n",
       "      <td>MG</td>\n",
       "      <td>30.0</td>\n",
       "      <td>5.0</td>\n",
       "      <td>101 até 500 reais</td>\n",
       "      <td>0</td>\n",
       "      <td>0.490000</td>\n",
       "    </tr>\n",
       "    <tr>\n",
       "      <th>1</th>\n",
       "      <td>B012C1697921F54E80780E034A93C871</td>\n",
       "      <td>DELIVERED</td>\n",
       "      <td>2018-01-21 11:13:57</td>\n",
       "      <td>2018-01-22 13:47:19</td>\n",
       "      <td>2018-01-23 21:13:24</td>\n",
       "      <td>2018-02-03 13:12:35</td>\n",
       "      <td>2018-02-14</td>\n",
       "      <td>4061</td>\n",
       "      <td>SP</td>\n",
       "      <td>SAO PAULO</td>\n",
       "      <td>2018-01-26 13:47:19</td>\n",
       "      <td>140.0</td>\n",
       "      <td>24.0</td>\n",
       "      <td>1</td>\n",
       "      <td>CREDIT_CARD</td>\n",
       "      <td>10</td>\n",
       "      <td>164</td>\n",
       "      <td>MOVEIS_SALA</td>\n",
       "      <td>37580</td>\n",
       "      <td>MONTE SIAO</td>\n",
       "      <td>MG</td>\n",
       "      <td>11.0</td>\n",
       "      <td>-10.0</td>\n",
       "      <td>101 até 500 reais</td>\n",
       "      <td>0</td>\n",
       "      <td>0.483333</td>\n",
       "    </tr>\n",
       "    <tr>\n",
       "      <th>2</th>\n",
       "      <td>B45218774C4D91E22FFD4165C0CBCC38</td>\n",
       "      <td>DELIVERED</td>\n",
       "      <td>2018-02-17 18:05:16</td>\n",
       "      <td>2018-02-17 18:15:30</td>\n",
       "      <td>2018-02-19 10:04:40</td>\n",
       "      <td>2018-03-09 21:09:45</td>\n",
       "      <td>2018-03-14</td>\n",
       "      <td>79803</td>\n",
       "      <td>MS</td>\n",
       "      <td>DOURADOS</td>\n",
       "      <td>2018-02-22 17:15:30</td>\n",
       "      <td>140.0</td>\n",
       "      <td>45.0</td>\n",
       "      <td>1</td>\n",
       "      <td>CREDIT_CARD</td>\n",
       "      <td>1</td>\n",
       "      <td>185</td>\n",
       "      <td>MOVEIS_SALA</td>\n",
       "      <td>37580</td>\n",
       "      <td>MONTE SIAO</td>\n",
       "      <td>MG</td>\n",
       "      <td>20.0</td>\n",
       "      <td>-4.0</td>\n",
       "      <td>101 até 500 reais</td>\n",
       "      <td>0</td>\n",
       "      <td>0.490000</td>\n",
       "    </tr>\n",
       "    <tr>\n",
       "      <th>3</th>\n",
       "      <td>DBBA7FF437DCECD5E70B6EA4BB3AB37B</td>\n",
       "      <td>DELIVERED</td>\n",
       "      <td>2018-01-29 22:44:15</td>\n",
       "      <td>2018-01-30 22:35:48</td>\n",
       "      <td>2018-01-31 22:48:48</td>\n",
       "      <td>2018-02-07 19:16:40</td>\n",
       "      <td>2018-02-21</td>\n",
       "      <td>7160</td>\n",
       "      <td>SP</td>\n",
       "      <td>GUARULHOS</td>\n",
       "      <td>2018-02-05 22:35:48</td>\n",
       "      <td>140.0</td>\n",
       "      <td>24.0</td>\n",
       "      <td>1</td>\n",
       "      <td>CREDIT_CARD</td>\n",
       "      <td>6</td>\n",
       "      <td>164</td>\n",
       "      <td>MOVEIS_SALA</td>\n",
       "      <td>37580</td>\n",
       "      <td>MONTE SIAO</td>\n",
       "      <td>MG</td>\n",
       "      <td>7.0</td>\n",
       "      <td>-13.0</td>\n",
       "      <td>101 até 500 reais</td>\n",
       "      <td>0</td>\n",
       "      <td>0.483333</td>\n",
       "    </tr>\n",
       "    <tr>\n",
       "      <th>4</th>\n",
       "      <td>F7364D7A775833B673741FAD4D394512</td>\n",
       "      <td>DELIVERED</td>\n",
       "      <td>2017-10-22 19:29:49</td>\n",
       "      <td>2017-10-22 19:49:19</td>\n",
       "      <td>2017-10-23 21:13:16</td>\n",
       "      <td>2017-10-31 19:43:56</td>\n",
       "      <td>2017-11-14</td>\n",
       "      <td>18120</td>\n",
       "      <td>SP</td>\n",
       "      <td>MAIRINQUE</td>\n",
       "      <td>2017-10-26 19:49:19</td>\n",
       "      <td>140.0</td>\n",
       "      <td>32.0</td>\n",
       "      <td>1</td>\n",
       "      <td>CREDIT_CARD</td>\n",
       "      <td>3</td>\n",
       "      <td>172</td>\n",
       "      <td>MOVEIS_SALA</td>\n",
       "      <td>37580</td>\n",
       "      <td>MONTE SIAO</td>\n",
       "      <td>MG</td>\n",
       "      <td>8.0</td>\n",
       "      <td>-13.0</td>\n",
       "      <td>101 até 500 reais</td>\n",
       "      <td>0</td>\n",
       "      <td>0.483333</td>\n",
       "    </tr>\n",
       "  </tbody>\n",
       "</table>\n",
       "</div>"
      ],
      "text/plain": [
       "                           order_id order_status order_purchase_timestamp  \\\n",
       "0  ADA48B7CE9FEE2A62CD265BD45A9C97B    DELIVERED      2017-05-28 23:22:32   \n",
       "1  B012C1697921F54E80780E034A93C871    DELIVERED      2018-01-21 11:13:57   \n",
       "2  B45218774C4D91E22FFD4165C0CBCC38    DELIVERED      2018-02-17 18:05:16   \n",
       "3  DBBA7FF437DCECD5E70B6EA4BB3AB37B    DELIVERED      2018-01-29 22:44:15   \n",
       "4  F7364D7A775833B673741FAD4D394512    DELIVERED      2017-10-22 19:29:49   \n",
       "\n",
       "    order_approved_at order_delivered_carrier_date  \\\n",
       "0 2017-05-28 23:35:16          2017-05-29 10:34:43   \n",
       "1 2018-01-22 13:47:19          2018-01-23 21:13:24   \n",
       "2 2018-02-17 18:15:30          2018-02-19 10:04:40   \n",
       "3 2018-01-30 22:35:48          2018-01-31 22:48:48   \n",
       "4 2017-10-22 19:49:19          2017-10-23 21:13:16   \n",
       "\n",
       "  order_delivered_customer_date order_estimated_delivery_date  \\\n",
       "0           2017-06-28 16:09:45                    2017-06-23   \n",
       "1           2018-02-03 13:12:35                    2018-02-14   \n",
       "2           2018-03-09 21:09:45                    2018-03-14   \n",
       "3           2018-02-07 19:16:40                    2018-02-21   \n",
       "4           2017-10-31 19:43:56                    2017-11-14   \n",
       "\n",
       "   customer_zip_code_prefix customer_state customer_city shipping_limit_date  \\\n",
       "0                     73840             GO  CAMPOS BELOS 2017-06-01 23:35:16   \n",
       "1                      4061             SP     SAO PAULO 2018-01-26 13:47:19   \n",
       "2                     79803             MS      DOURADOS 2018-02-22 17:15:30   \n",
       "3                      7160             SP     GUARULHOS 2018-02-05 22:35:48   \n",
       "4                     18120             SP     MAIRINQUE 2017-10-26 19:49:19   \n",
       "\n",
       "   price  freight_value  payment_sequential payment_type  \\\n",
       "0  140.0           30.0                   1  CREDIT_CARD   \n",
       "1  140.0           24.0                   1  CREDIT_CARD   \n",
       "2  140.0           45.0                   1  CREDIT_CARD   \n",
       "3  140.0           24.0                   1  CREDIT_CARD   \n",
       "4  140.0           32.0                   1  CREDIT_CARD   \n",
       "\n",
       "   payment_installments  payment_value product_category_name  \\\n",
       "0                     4            170           MOVEIS_SALA   \n",
       "1                    10            164           MOVEIS_SALA   \n",
       "2                     1            185           MOVEIS_SALA   \n",
       "3                     6            164           MOVEIS_SALA   \n",
       "4                     3            172           MOVEIS_SALA   \n",
       "\n",
       "   seller_zip_code_prefix seller_city seller_state  tempo_entrega  \\\n",
       "0                   37580  MONTE SIAO           MG           30.0   \n",
       "1                   37580  MONTE SIAO           MG           11.0   \n",
       "2                   37580  MONTE SIAO           MG           20.0   \n",
       "3                   37580  MONTE SIAO           MG            7.0   \n",
       "4                   37580  MONTE SIAO           MG            8.0   \n",
       "\n",
       "   diferenca_entrega        faixa_preco  PREVISOES  PROBABILIDADES  \n",
       "0                5.0  101 até 500 reais          0        0.490000  \n",
       "1              -10.0  101 até 500 reais          0        0.483333  \n",
       "2               -4.0  101 até 500 reais          0        0.490000  \n",
       "3              -13.0  101 até 500 reais          0        0.483333  \n",
       "4              -13.0  101 até 500 reais          0        0.483333  "
      ]
     },
     "execution_count": 170,
     "metadata": {},
     "output_type": "execute_result"
    }
   ],
   "source": [
    "# Excluindo dados missing\n",
    "df_original.dropna(inplace=True)\n",
    "\n",
    "\n",
    "# Criando faixa salarial para utilizarmos no modelo preditivo\n",
    "bins = [-100, 100, 500, 1000, 2000, 3000, 4000, 5000, 9000000000]\n",
    "labels = ['Até 100 reais', '101 até 500 reais', '501 até 1000 reais', '1001 até 2000 reais', '2001 até 3000 reais', \n",
    "          '3001 até 4000 reais', 'De 4001 até 5000 reais','Mais de 5000 reais']\n",
    "df_original['faixa_preco'] = pd.cut(df_original['price'], bins=bins, labels=labels)\n",
    "pd.value_counts(df_original.faixa_preco)\n",
    "\n",
    "colunas = ['order_status',  \n",
    "           'customer_state', 'customer_city',\n",
    "           'freight_value', 'payment_type','payment_value',\n",
    "           'product_category_name', 'seller_city',\n",
    "           'seller_state','tempo_entrega', 'diferenca_entrega', 'faixa_preco']\n",
    "\n",
    "df_dados = pd.DataFrame(df_original, columns=colunas)\n",
    "\n",
    "# carregar variaveis categoricas para OneHotEncoding\n",
    "\n",
    "variaveis_categoricas = []\n",
    "for i in df_dados.columns[0:12].tolist():\n",
    "        if df_dados.dtypes[i] == 'object' or df_dados.dtypes[i] == 'category':                        \n",
    "            variaveis_categoricas.append(i)        \n",
    "            \n",
    "\n",
    "lb = LabelEncoder()\n",
    "\n",
    "for var in variaveis_categoricas:\n",
    "    df_dados[var] = lb.fit_transform(df_dados[var])\n",
    "\n",
    "# Separar variaveis preditoras\n",
    "PREDITORAS = df_dados.iloc[:, 0:10]          \n",
    "    \n",
    "\n",
    "# Fazendo a normalização dos dados    \n",
    "Normalizador = MinMaxScaler()\n",
    "dados_normalizados = Normalizador.fit_transform(PREDITORAS)\n",
    "\n",
    "previsoes = clf.predict(dados_normalizados)\n",
    "probabilidades = clf.predict_proba(dados_normalizados)\n",
    "df_original['PREVISOES'] = previsoes\n",
    "df_original['PROBABILIDADES'] = probabilidades[:, 1]\n",
    "df_original.head()"
   ]
  },
  {
   "cell_type": "code",
   "execution_count": 171,
   "metadata": {},
   "outputs": [],
   "source": [
    "df_original.to_excel('df_previsao_entrega_com_probabilidades.xlsx', index = False)"
   ]
  }
 ],
 "metadata": {
  "kernelspec": {
   "display_name": "Python 3",
   "language": "python",
   "name": "python3"
  },
  "language_info": {
   "codemirror_mode": {
    "name": "ipython",
    "version": 3
   },
   "file_extension": ".py",
   "mimetype": "text/x-python",
   "name": "python",
   "nbconvert_exporter": "python",
   "pygments_lexer": "ipython3",
   "version": "3.12.3"
  }
 },
 "nbformat": 4,
 "nbformat_minor": 2
}
